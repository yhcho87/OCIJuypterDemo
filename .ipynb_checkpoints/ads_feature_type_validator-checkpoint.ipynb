{
 "cells": [
  {
   "cell_type": "markdown",
   "id": "soviet-douglas",
   "metadata": {},
   "source": [
    "ADS Sample Notebook.\n",
    "\n",
    "Copyright (c) 2021 Oracle, Inc. All rights reserved. Licensed under the Universal Permissive License v 1.0 as shown at https://oss.oracle.com/licenses/upl.\n",
    "\n",
    "***\n",
    "# <font color=red>Feature Type Validator</font>\n",
    "<p style=\"margin-left:10%; margin-right:10%;\">by the <font color=teal> Oracle Cloud Infrastructure Data Science Service Team</font></p>\n",
    "\n",
    "***\n",
    "\n",
    "# Overview:\n",
    "\n",
    "Feature types are a powerful way to abstract the nature of the data way from the way that is it represented on the computer. Feature type validators are a flexible way to improve and speed up your data validation process. It allows a feature type to be dynamically extended such that the data validation process can be reproducible and shared across projects. `ADS` comes with various validation routines. However, the system is designed for you to create your own validation routines to use on your organization's feature types. This notebook shows you how to create feature type validators.\n",
    "\n",
    "\n",
    "---\n",
    "\n",
    "## Prerequisites:\n",
    "- Experience with a specific topic: Novice\n",
    "- Professional experience: Novice\n",
    "\n",
    "---\n",
    "\n",
    "## Objectives:\n",
    "\n",
    "- <a href='#overview'>Overview</a>\n",
    "- <a href=\"#list_validators\">List Feature Type Validator</a>\n",
    "    - <a href=\"#list_validators_ftm\">List Feature Type Validators Using the Feature Type Manager</a>\n",
    "    - <a href=\"#list_validators_fto\">List Feature Type Validators on a Feature Type Object</a>\n",
    "    - <a href=\"#list_validators_series\">List Feature Type Validators on a Series</a>\n",
    "    - <a href=\"#list_validators_df\">List Feature Type Validators on a Dataframe</a>\n",
    "- <a href=\"#using_handlers\">Using Feature Type Validators</a>\n",
    "    - <a href=\"#using_handlers_series\">Using Feature Type Validators on a Series</a>\n",
    "    - <a href=\"#using_handlers_fto\">Using Feature Type Validators on a Feature Type Object</a>\n",
    "- <a href=\"#default_handler\">Default Feature Type Validator</a>\n",
    "    - <a href=\"#create_handler\">Create a Default Feature Type Validator</a> \n",
    "    - <a href='#validator_register'>Registering a Default Feature Type Validator</a>\n",
    "- <a href='#condition_handler'>Condition Feature Type Validator</a>\n",
    "    - <a href='#condition_handler_closed'>Closed Value Condition Feature Type Validator</a>   \n",
    "    - <a href='#condition_handler_open'>Open Value Condition Feature Type Validator</a>\n",
    "    - <a href='#condition_handler_disambiguation'>Disambiguation</a>\n",
    "- <a href='#unregistering'>Unregistering a Feature Type Validator</a>\n",
    "- <a href=\"#reference\">References</a>    \n",
    "    \n",
    "    ---\n",
    "\n",
    "**Important:**\n",
    "\n",
    "Placeholder text for required values are surrounded by angle brackets that must be removed when adding the indicated content. For example, when adding a database name to `database_name = \"<database_name>\"` would become `database_name = \"production\"`.\n",
    "\n",
    "---\n",
    "\n",
    "Datasets are provided as a convenience. Datasets are considered third party content and are not considered materials under your agreement with Oracle applicable to the services. The [`orcl_attrition` dataset](oracle_data/UPL.txt) is distributed under the UPL license.\n"
   ]
  },
  {
   "cell_type": "code",
   "execution_count": null,
   "id": "documented-indication",
   "metadata": {},
   "outputs": [],
   "source": [
    "import ads\n",
    "import numpy as np\n",
    "import os\n",
    "import pandas as pd\n",
    "import re\n",
    "from ads.feature_engineering import feature_type_manager\n",
    "from ads.feature_engineering import FeatureType"
   ]
  },
  {
   "cell_type": "markdown",
   "id": "adequate-click",
   "metadata": {},
   "source": [
    "<a id=\"overview\"></a>\n",
    "# Feature Type Validators\n",
    "\n",
    "One aspect of exploratory data analysis (EDA) is to ensure that all the data is valid. For example, you may have credit card data and want to ensure that all the numbers are valid credit card numbers. The feature type validators are a way of performing this validation. There are built-in methods for the feature types that are provided by `ADS`, but the idea is for you to create these methods for your custom feature types.\n",
    "\n",
    "Feature type validators are defined on the feature type level. You can define functions that can be applied to the columns and features of the same feature type and use it across your entire organization. The feature types that are provided by `ADS` come with a default set of handlers.\n",
    "\n",
    "The feature type validators are a set of `.is_*()` methods, where `*` is generally the name of the feature type. For example, the method `.is_credit_card()` would be called to ensure that the data are all credit card numbers. The feature type validators return a boolean pandas series, which is the length of the data. If the element meets the criteria specified in the feature type validator, it indicates `True` otherwise it is `False`. The `.is_*()` method is called the **validator**.\n",
    "\n",
    "The feature type validator system is extensible. You can have multiple validators for any feature type. For example, if you had a credit card feature type you may want to have the validator `.is_credit_card()`. It would check a set of credit card numbers to make sure that they are valid credit card numbers. You may want to add other validators like, `.is_visa()` and `.is_mastercard()`, to determine if the credit card numbers are associated with Visa or Mastercard accounts.\n",
    "\n",
    "The feature type validator can also be extended through the use of conditions. Conditions allow you to have different sets of feature type validators based on a set of arguments that you define called **conditions**. For example, if you wanted to and see if a credit card is a Visa card you could create a condition like `.is_credit_card(card_type='Visa')`. Then you register a feature handler with that condition and it runs when you pass in that condition.\n",
    "\n",
    "<a id=\"list_validators\"></a>\n",
    "## List Feature Type Validators\n",
    "\n",
    "To make the association between the feature type, validator, condition, and feature type validator, the feature type validator must be registered with the feature type manager. The module `feature_type_manager` is used to manage these relationships.\n",
    "\n",
    "<a id=\"list_validators_ftm\"></a>\n",
    "## List Feature Type Validators Using the Feature Type Manager\n",
    "\n",
    "To list the current feature handlers and their conditions use the `feature_type_manager.validator_registered()` method. It shows the registered handlers in a dataframe format. The columns in the dataframe are:\n",
    "- `Feature Type`: Feature type class name.\n",
    "- `Validator`:    Validation functions that you can call to validate a pandas series.\n",
    "- `Condition`:    Condition that the handler is registered in.\n",
    "- `Handler`:      Registered handler."
   ]
  },
  {
   "cell_type": "code",
   "execution_count": null,
   "id": "quantitative-pathology",
   "metadata": {},
   "outputs": [],
   "source": [
    "feature_type_manager.validator_registered()"
   ]
  },
  {
   "cell_type": "markdown",
   "id": "seventh-barcelona",
   "metadata": {},
   "source": [
    "<a id=\"list_validators_fto\"></a>\n",
    "## List Feature Type Validators on a Feature Type Object\n",
    "\n",
    "Each feature type object also has a `.validator.registered()` method that returns a dataframe with the validators, conditions, and feature type validators that are associated with the given feature type. \n",
    "\n",
    "The next cell uses the feature type manager to obtain a `FeatureType` object for the credit card feature type. This object is the feature type object for the credit card feature type. The cell then obtains a list of validators, conditions, and feature type validators that are associated with the credit card feature type."
   ]
  },
  {
   "cell_type": "code",
   "execution_count": null,
   "id": "published-guitar",
   "metadata": {},
   "outputs": [],
   "source": [
    "CreditCard = feature_type_manager.feature_type_object('credit_card')\n",
    "CreditCard.validator.registered()"
   ]
  },
  {
   "cell_type": "markdown",
   "id": "fundamental-excess",
   "metadata": {},
   "source": [
    "<a id=\"list_validators_series\"></a>\n",
    "## List Feature Type Validators on a Series\n",
    "\n",
    "The `.validator_registered()` method can be used on a pandas series by calling `.ads.validator_registeres()`.\n",
    "\n",
    "The next cell creates a series that contains valid credit card numbers. The series has its feature type set to `credit_card`. The call to `series.ads.validator_registered()` reports multiple handlers because the series has multiple feature types associated with it (credit card and string)."
   ]
  },
  {
   "cell_type": "code",
   "execution_count": null,
   "id": "incredible-humor",
   "metadata": {},
   "outputs": [],
   "source": [
    "series = pd.Series([\"4532640527811543\", \"4556929308150929\", \"4539944650919740\"], name='creditcard')\n",
    "series.ads.feature_type = ['credit_card']\n",
    "series.ads.validator_registered()"
   ]
  },
  {
   "cell_type": "markdown",
   "id": "located-denmark",
   "metadata": {},
   "source": [
    "<a id=\"list_validators_df\"></a>\n",
    "## List Feature Type Validators on a Dataframe\n",
    "\n",
    "Like a pandas series, `.validator_registered()` can be used on a dataframe to obtain information on the feature type validators that are associated with the columns of the dataframe. It only displays columns that have feature type validators associated with them.\n",
    "\n",
    "The next cell loads a sample dataset into a pandas dataframe. The feature types are then assigned to these columns and `.ads.validator_registered()` is called on the dataframe."
   ]
  },
  {
   "cell_type": "code",
   "execution_count": null,
   "id": "extra-floor",
   "metadata": {},
   "outputs": [],
   "source": [
    "attrition_path = os.path.join('/opt', 'notebooks', 'ads-examples', 'oracle_data', 'orcl_attrition.csv')\n",
    "df = pd.read_csv(attrition_path, \n",
    "                 usecols=['Attrition', 'TravelForWork', 'JobFunction', 'EducationalLevel'])\n",
    "df.ads.feature_type = {'Attrition': ['boolean', 'category'],\n",
    "                         'TravelForWork': ['category'],\n",
    "                         'JobFunction': ['category'],\n",
    "                         'EducationalLevel': ['category']}\n",
    "\n",
    "df.ads.validator_registered()"
   ]
  },
  {
   "cell_type": "markdown",
   "id": "physical-active",
   "metadata": {},
   "source": [
    "<a id=\"using_handlers\"></a>\n",
    "# Using Feature Type Validators\n",
    "\n",
    "The goal of the feature type validator is to validate the data against some set of criteria. This can be done using the feature type object itself or on a pandas series.\n",
    "\n",
    "<a id=\"using_handlers_series\"></a>\n",
    "## Using Feature Type Validators on a Series\n",
    "\n",
    "For a pandas series, the feature type validator is invoked by using the name of the validator and any condition arguments that may be required. To do this the series object calls `.ads` followed by a call to the validator name. For example, `series.ads.validator.is_credit_card(starts_with='4')`, where `.is_credit_card()` is the validator name and `starts_with='4'` is the condition.\n",
    "\n",
    "The next cell creates a pandas series that contains a set of valid credit card numbers along with a set of invalid numbers. This series has its feature type set to `credit_card` and invokes the `.is_credit_card()` feature type validator."
   ]
  },
  {
   "cell_type": "code",
   "execution_count": null,
   "id": "developed-boating",
   "metadata": {},
   "outputs": [],
   "source": [
    "visa = [\"4532640527811543\", \"4556929308150929\", \"4539944650919740\", \"4485348152450846\", \"4556593717607190\"]\n",
    "invalid = [np.nan, None, \"\", \"123\", \"abc\"]\n",
    "\n",
    "series = pd.Series(visa + invalid, name='creditcard')\n",
    "series.ads.feature_type = ['credit_card']\n",
    "series.ads.validator.is_credit_card()"
   ]
  },
  {
   "cell_type": "markdown",
   "id": "organizational-syndication",
   "metadata": {},
   "source": [
    "A series can have multiple feature types handlers associated with it. In this example, `.is_string()` could have also been called. Since the return type is a pandas series the `.any()` and `.all()` methods can be used to provide summary information about the validation. \n",
    "\n",
    "The next cell shows you how to validate that there is at least one datum that is not a valid string."
   ]
  },
  {
   "cell_type": "code",
   "execution_count": null,
   "id": "ancient-terrorism",
   "metadata": {},
   "outputs": [],
   "source": [
    "series.ads.validator.is_string().all()"
   ]
  },
  {
   "cell_type": "markdown",
   "id": "decent-fisher",
   "metadata": {},
   "source": [
    "<a id=\"using_handlers_fto\"></a>\n",
    "## Using Feature Type Validators on a Feature Type Object\n",
    "\n",
    "A feature type object can be used to invoke the feature type validator by using the name of the validator and any condition arguments that may be required on the feature type object. On the feature type object, call the validator. For example, `CreditCard.is_credit_card(starts_with='4')`, where `.is_credit_card()` is the validator and `starts_with='4'` is the condition.\n",
    "\n",
    "The next cell uses the feature type manager to obtain a feature type object to the credit card feature type. This object is used to call the feature type validator by passing in the pandas series that is to be assessed."
   ]
  },
  {
   "cell_type": "code",
   "execution_count": null,
   "id": "forty-intellectual",
   "metadata": {},
   "outputs": [],
   "source": [
    "CreditCard = feature_type_manager.feature_type_object('credit_card')\n",
    "CreditCard.validator.is_credit_card(series)"
   ]
  },
  {
   "cell_type": "markdown",
   "id": "dressed-portrait",
   "metadata": {},
   "source": [
    "<a id=\"default_handler\"></a>\n",
    "# Default Feature Type Validator\n",
    "\n",
    "The power of the feature type system is that you can quickly create new feature type validators to validate your data. This is a two step process:\n",
    "\n",
    "1. Define a function that will act as the feature type validator.\n",
    "1. Register the feature type validator.\n",
    "\n",
    "Each feature type has a default handler that is called when no other handler can process a request.\n",
    "\n",
    "<a id=\"create_handler\"></a>\n",
    "## Create a Default Feature Type Validator\n",
    "\n",
    "A feature type validator is a function that respects these rules:\n",
    "\n",
    "* It takes a series as a first argument.\n",
    "* If there are any condition arguments, the `*args` and `**kwargs` should be used.\n",
    "* It returns a boolean series that is the same length as the input series.\n",
    "\n",
    "To register your own handler, you need to define the handler and then register it to the feature type. If the handler already exists, there is no need to create a new one.\n",
    "\n",
    "In this example a new feature type validator, `.is_visa_card_handler()`, is created. It checks to see if the credit card number is issued by Visa. The next cell creates the `is_visa_card_handler()` function that tests each element in the `data` parameter is a valid Visa credit card number. Then it returns a boolean series the same length as `data`."
   ]
  },
  {
   "cell_type": "code",
   "execution_count": null,
   "id": "disturbed-survivor",
   "metadata": {},
   "outputs": [],
   "source": [
    "def is_visa_card_handler(data: pd.Series, *args, **kwargs) -> pd.Series:\n",
    "    \"\"\"\n",
    "    Processes given data and indicates if the data matches Visa credit card.\n",
    "\n",
    "    Parameters\n",
    "    ----------\n",
    "    data: pd.Series\n",
    "        The data to process.\n",
    "\n",
    "    Returns\n",
    "    --------\n",
    "    pd.Series: The logical list indicating if the data matches requirements.\n",
    "    \"\"\"\n",
    "    _pattern_string = r\"\"\"\n",
    "        ^(?:4[0-9]{12}(?:[0-9]{3})?         # Visa\n",
    "        |  ^4[0-9]{12}(?:[0-9]{6})?$        # Visa 19 digit\n",
    "        )$\n",
    "    \"\"\"\n",
    "    PATTERN = re.compile(_pattern_string, re.VERBOSE)\n",
    "    def _is_credit_card(x: pd.Series):\n",
    "        return (\n",
    "            not pd.isnull(x)\n",
    "            and PATTERN.match(str(x)) is not None\n",
    "        )\n",
    "    return data.apply(lambda x: True if _is_credit_card(x) else False)"
   ]
  },
  {
   "cell_type": "markdown",
   "id": "hybrid-mainland",
   "metadata": {},
   "source": [
    "<a id='validator_register'></a>\n",
    "## Registering a Default Feature Type Validator\n",
    "\n",
    "The feature type validator, needs to be registered with the feature type. You do that using the `.register()` method, which is part of the feature type object. The feature type manager is used to obtain a link to the feature type object.\n",
    "\n",
    "\n",
    "The `.register()` method has the following parameters:\n",
    "- `name`: The validator name that is used to invoke the feature type validator.\n",
    "- `default_handler`: The function name of the default feature type validator.\n",
    "- `replace`: The flag indicating if the registered handler should be replaced with the new one.\n",
    "\n",
    "The next cell obtains the feature type object, `CreditCard`, and then it registers the default feature type validator. If one exists, with the same name, it is replaced. A call to `CreditCard.validator_registered()` returns the registered handlers for the credit card feature type."
   ]
  },
  {
   "cell_type": "code",
   "execution_count": null,
   "id": "threaded-filing",
   "metadata": {},
   "outputs": [],
   "source": [
    "CreditCard = feature_type_manager.feature_type_object('credit_card')\n",
    "CreditCard.validator.register(name='is_visa_card', handler=is_visa_card_handler, replace = True)\n",
    "CreditCard.validator.registered()"
   ]
  },
  {
   "cell_type": "markdown",
   "id": "miniature-music",
   "metadata": {},
   "source": [
    "The next cell demonstrates how to use the `.is_visa_card()` feature type validator. A series is created that contains credit cards from Visa, Mastercard and American Express. The `.is_visa_card()` feature type validator is called and it returns a boolean series indicating which credit cards are issued by Visa."
   ]
  },
  {
   "cell_type": "code",
   "execution_count": null,
   "id": "parliamentary-reality",
   "metadata": {},
   "outputs": [],
   "source": [
    "visa = [\"4532640527811543\", \"4556929308150929\"]\n",
    "mastercard = [\"5406644374892259\", \"5440870983256218\"]\n",
    "amex = [\"371025944923273\", \"374745112042294\"]\n",
    "series = pd.Series(visa + mastercard + amex, name='Credit Card')\n",
    "series.ads.feature_type = ['credit_card']\n",
    "CreditCard.validator.is_visa_card(series)"
   ]
  },
  {
   "cell_type": "markdown",
   "id": "sacred-current",
   "metadata": {},
   "source": [
    "Using `CreditCard.validator.is_visa_card?`, with a question mark, shows that `is_visa_card` is an object that has several built-in methods. For example, `.register()`, and `.registered()`. These methods help you to extend the functionality of the handler. "
   ]
  },
  {
   "cell_type": "code",
   "execution_count": null,
   "id": "settled-medicine",
   "metadata": {},
   "outputs": [],
   "source": [
    "CreditCard.validator.is_visa_card?"
   ]
  },
  {
   "cell_type": "markdown",
   "id": "great-president",
   "metadata": {},
   "source": [
    "<a id='condition_handler'></a>\n",
    "# Condition Feature Type Validator\n",
    "\n",
    "Each feature type validator has a default handler that is called when no condition handler can handle a request. A condition feature type validator allows you to specify arbitrary parameters that are passed to the feature type system. The system examines these parameters and determines the best handler that should be dispatched. This determination is done by using the most restrictive set of parameter criteria.\n",
    "\n",
    "Use the `.register()` method to register a condition handler. The parameter `name` gives a user-friendly name to the registered handler. The `condition` parameter is used to specify the conditions that must be met to invoke the handler. Conditions would be user-defined parameters and values that help identify what condition in which the handler is to be dispatched. The `handler` parameter is the name of a function that will be dispatched when the conditions are met. The parameter `replace` determines if the handler should replace one that matches the condition. If set to `True` it will replace it if it exists. If set to `False` it will not replace an existing matching handler and will throw an error.\n",
    "\n",
    "A feature type validator is a function that respects the following rules:\n",
    "\n",
    "* It takes a series as a first argument.\n",
    "* It has formal arguments for the conditions.\n",
    "* It returns a boolean series that is the same length as the input series.\n",
    "\n",
    "<a id='condition_handler_closed'></a>\n",
    "## Closed Value Condition Feature Type Validator\n",
    "\n",
    "Closed value condition feature types allow you to specify any number of key-pair pairs to a condition handler and control which feature type validator is dispatched. However, when calling the handler, all of the key-value pairs must match.\n",
    "\n",
    "The `condition` parameter of the `.register()` method can explicitly define key-value pairs that are used to determine with handler to dispatch. In the <a href=\"#default_handler\">Default Feature Type Validator</a> section, the `is_visa_card` validator was created to determine if the credit cards were issued by Visa. It is possible to create the same effect by using a condition feature type validator on the `is_credit_card` feature type handle using explicit key-value pairs. To do this, the `condition` method accepts a dictionary of key-value pairs where the key is the parameter name and the dictionary value is the parameter value. For example, `CreditCard.validator.register(name='is_credit_card', condition={\"card_type\": \"Visa\"}, handler=is_visa_card_handler, replace=True)` links the parameter `card_type` to the value `Visa`.\n",
    "\n",
    "In the next cell, the credit card feature type has a condition handler registered. It uses the same feature type validator, `is_visa_card_handler` that was used to create the `is_visa_card` default feature type validator."
   ]
  },
  {
   "cell_type": "code",
   "execution_count": null,
   "id": "preliminary-curtis",
   "metadata": {},
   "outputs": [],
   "source": [
    "CreditCard = feature_type_manager.feature_type_object('credit_card')\n",
    "CreditCard.validator.register(name='is_credit_card', condition={\"card_type\": \"Visa\"}, handler=is_visa_card_handler, replace=True)\n",
    "CreditCard.validator.registered()"
   ]
  },
  {
   "cell_type": "markdown",
   "id": "later-operations",
   "metadata": {},
   "source": [
    "The next cell creates a series of credit card numbers and uses the parameters `card_type=\"Visa\"` when calling the `is_credit_card` validator. Notice that only the first two elements are flagged as being issued by Visa. If the default handler was called, all the returned values would have been `True` because they are all valid credit card numbers."
   ]
  },
  {
   "cell_type": "code",
   "execution_count": null,
   "id": "based-negotiation",
   "metadata": {},
   "outputs": [],
   "source": [
    "visa = [\"4532640527811543\", \"4556929308150929\"]\n",
    "mastercard = [\"5406644374892259\", \"5440870983256218\"]\n",
    "amex = [\"371025944923273\", \"374745112042294\"]\n",
    "series = pd.Series(visa + mastercard + amex, name='Credit Card')\n",
    "series.ads.feature_type = ['credit_card']\n",
    "CreditCard.validator.is_visa_card(series)"
   ]
  },
  {
   "cell_type": "markdown",
   "id": "designing-florist",
   "metadata": {},
   "source": [
    "The previous cell called the feature type validator using the feature type object, `CreditCard`. It can also be called using the pandas series."
   ]
  },
  {
   "cell_type": "code",
   "execution_count": null,
   "id": "understanding-external",
   "metadata": {},
   "outputs": [],
   "source": [
    "series.ads.validator.is_credit_card(card_type=\"Visa\")"
   ]
  },
  {
   "cell_type": "markdown",
   "id": "vertical-auction",
   "metadata": {},
   "source": [
    "With closed value condition feature type validators, the key and values must match what was registered. If they don't, the condition feature type validator isn't called. In the next cell, the value is set to `Mastercard` to cause the default handler to be called. "
   ]
  },
  {
   "cell_type": "code",
   "execution_count": null,
   "id": "abroad-extra",
   "metadata": {},
   "outputs": [],
   "source": [
    "CreditCard.validator.is_credit_card(series, card_type=\"Mastercard\")"
   ]
  },
  {
   "cell_type": "markdown",
   "id": "canadian-simon",
   "metadata": {},
   "source": [
    "To register a closed value feature type validator that has multiple conditions, you use a dictionary with multiple key-value pairs. For example, to create a condition that checks that the country code is 1 and area code is 902, you could do the following:\n",
    "\n",
    "```python\n",
    "PhoneNumber.validator.register(name='is_phone_number', condition={\"country_code\": \"1\", \"area_code\": \"902\"},\n",
    "                               handler=is_1_902_handler)\n",
    "```\n",
    "\n",
    "<a id='condition_handler_open'></a>\n",
    "## Open Value Condition Feature Type Validator\n",
    "\n",
    "Open value condition feature type validators are similar to their closed value counterparts expect the value is not used in the matching process.\n",
    "\n",
    "To register an open value condition feature type validator, the same process is used as for the <a href='#condition_handler_closed'>Closed Value Condition Feature Type Validator</a> with the exception that a tuple is used to specify the conditions and no values are provided. For example, `CreditCard.validator.register(name='is_credit_card', condition=(\"card_type\",), handler=is_any_card_handler)`.\n",
    "\n",
    "This cell defines a feature type condition handler that accepts the card type as a parameter name:"
   ]
  },
  {
   "cell_type": "code",
   "execution_count": null,
   "id": "commercial-toddler",
   "metadata": {},
   "outputs": [],
   "source": [
    "def is_any_card_handler(data: pd.Series, card_type: str) -> pd.Series:\n",
    "    \"\"\"\n",
    "    Processes given data and indicates if the data matches any credit card\n",
    "\n",
    "    Parameters\n",
    "    ----------\n",
    "    data: pd.Series\n",
    "        The data to process.\n",
    "\n",
    "    Returns\n",
    "    --------\n",
    "    pd.Series: The logical list indicating if the data matches requirements.\n",
    "    \"\"\"\n",
    "    \n",
    "    if card_type == 'Visa':\n",
    "        _pattern_string = r\"\"\"\n",
    "            ^(?:4[0-9]{12}(?:[0-9]{3})?         # Visa\n",
    "            |  ^4[0-9]{12}(?:[0-9]{6})?$        # Visa 19 digit\n",
    "            )$\n",
    "        \"\"\"    \n",
    "    elif card_type == 'Mastercard':\n",
    "        _pattern_string = r\"\"\"\n",
    "            ^5[1-5][0-9]{14}|^(222[1-9]|22[3-9]\\\\d|2[3-6]\\\\d{2}|27[0-1]\\\\d|2720)[0-9]{12}$\n",
    "        \"\"\"\n",
    "        \n",
    "    elif card_type == \"Amex\":\n",
    "        _pattern_string = r\"\"\"\n",
    "            ^3[47][0-9]{13}$\n",
    "        \"\"\"\n",
    "    else:\n",
    "        raise ValueError()\n",
    "        \n",
    "    PATTERN = re.compile(_pattern_string, re.VERBOSE)\n",
    "    def _is_credit_card(x: pd.Series):\n",
    "        return (\n",
    "            not pd.isnull(x)\n",
    "            and PATTERN.match(str(x)) is not None\n",
    "        )\n",
    "    return data.apply(lambda x: _is_credit_card(x))"
   ]
  },
  {
   "cell_type": "markdown",
   "id": "mighty-custom",
   "metadata": {},
   "source": [
    "The next cell registers the open value feature type validator using a tuple. Notice that values for the `card_type` parameter aren't specified. However, the `is_any_card_handler` function has a formal argument for it. The value of the parameter is passed into the handler. Also, note the trailing comma to make the parameter in `condition` a tuple. This forces Python to make `('card_type',)` a tuple. The output of the cell is the currently registered feature type validators."
   ]
  },
  {
   "cell_type": "code",
   "execution_count": null,
   "id": "similar-welcome",
   "metadata": {},
   "outputs": [],
   "source": [
    "CreditCard.validator.register(name='is_credit_card', condition=(\"card_type\",), handler=is_any_card_handler)\n",
    "CreditCard.validator.registered()"
   ]
  },
  {
   "cell_type": "markdown",
   "id": "clear-centre",
   "metadata": {},
   "source": [
    "To determine which credit card numbers in the variable `series` are issued by Mastercard, pass the parameter `card_type=\"Mastercard\"` into the `.is_credit_card()` feature type validator. The feature type system examines the parameters and then dispatches `is_any_card_handler`. `is_any_card_handler` accepts the `card_type` parameter and has logic to detect which numbers are Mastercard."
   ]
  },
  {
   "cell_type": "code",
   "execution_count": null,
   "id": "front-temperature",
   "metadata": {},
   "outputs": [],
   "source": [
    "series.ads.validator.is_credit_card(card_type=\"Mastercard\")"
   ]
  },
  {
   "cell_type": "markdown",
   "id": "computational-elephant",
   "metadata": {},
   "source": [
    "This approach can also be used by the feature type object, `CreditCard`. In this example, the values in the variable `series` are checked to see if they match American Express credit card numbers:"
   ]
  },
  {
   "cell_type": "code",
   "execution_count": null,
   "id": "golden-moldova",
   "metadata": {},
   "outputs": [],
   "source": [
    "CreditCard.validator.is_credit_card(series, card_type=\"Amex\")"
   ]
  },
  {
   "cell_type": "markdown",
   "id": "found-conditions",
   "metadata": {},
   "source": [
    "To register an open value feature type validator that has multiple conditions, you would use a tuple with multiple values. For example, if you wanted to create a condition that would check the country and area codes of a phone number, you could use the following:\n",
    "\n",
    "```python\n",
    "PhoneNumber.validator.register(name='is_phone_number', condition=((\"country_code\", \"area_code\")),\n",
    "                               handler=is_county_area_handler)\n",
    "```\n",
    "\n",
    "It's not possible to mix open and closed condition feature type validators.\n",
    "\n",
    "<a id='condition_handler_disambiguation'></a>\n",
    "## Disambiguation\n",
    "\n",
    "In this notebook, a closed condition feature type was created for `'card_type'='Visa'`. There was also an open condition feature type that was created to handle all conditions that specify the `card_type` parameter. There appears to be a conflict in that both conditions support the case of `'card_type'='Visa'`. In fact, there is no conflict. The feature type system determines the most restrictive case and dispatches on it so the `is_visa_card_handler` handler is called."
   ]
  },
  {
   "cell_type": "code",
   "execution_count": null,
   "id": "tough-participant",
   "metadata": {},
   "outputs": [],
   "source": [
    "CreditCard.validator.registered()"
   ]
  },
  {
   "cell_type": "markdown",
   "id": "grateful-instruction",
   "metadata": {},
   "source": [
    "The next cell causes the `is_visa_card_handler` to be dispatched because it has the most restrictive set of requirements that match the parameters given."
   ]
  },
  {
   "cell_type": "code",
   "execution_count": null,
   "id": "yellow-digit",
   "metadata": {},
   "outputs": [],
   "source": [
    "series.ads.validator.is_credit_card(card_type=\"Visa\")"
   ]
  },
  {
   "cell_type": "markdown",
   "id": "threaded-conviction",
   "metadata": {},
   "source": [
    "<a id='unregistering'></a>\n",
    "# Unregistering a Feature Type Validator\n",
    "\n",
    "The `.unregister()` method is used to remove a feature type validator. Condition feature type validators are removed by using the validator as an accessor. In this case, the parameters to `.unregister()` are a dictionary in the case of closed condition feature type validators and it must match the dictionary that was used to register the handler. In the case of the open condition feature type validator, a tuple is passed to the `.unregister()`. Again, the tuple must match the tuple that was used to register the handler.\n",
    "\n",
    "To remove a default feature type validator, use the feature type object along with the `.unregister()` method. In this case, the parameter is the name of the validator. Removing the default feature type validator also removes any condition feature type validators that are associated with it.\n",
    "\n",
    "The next cell lists the current feature type validators."
   ]
  },
  {
   "cell_type": "code",
   "execution_count": null,
   "id": "through-parking",
   "metadata": {},
   "outputs": [],
   "source": [
    "CreditCard = feature_type_manager.feature_type_object('credit_card')\n",
    "CreditCard.validator.registered()"
   ]
  },
  {
   "cell_type": "markdown",
   "id": "grave-choir",
   "metadata": {},
   "source": [
    "Remove the closed condition for the case where `'card_type'='Visa'` on the validator `is_credit_card` as in the next cell. Note that the handler has been removed."
   ]
  },
  {
   "cell_type": "code",
   "execution_count": null,
   "id": "worth-mozambique",
   "metadata": {},
   "outputs": [],
   "source": [
    "try:\n",
    "    CreditCard.validator.unregister(name=\"is_credit_card\", condition = {\"card_type\": \"Visa\"})\n",
    "except:\n",
    "    pass\n",
    "CreditCard.validator.registered()"
   ]
  },
  {
   "cell_type": "markdown",
   "id": "acting-crash",
   "metadata": {},
   "source": [
    "Remove the open condition for `card_type` on the validator `is_credit_card` as in the next cell. Note that the handler has been removed."
   ]
  },
  {
   "cell_type": "code",
   "execution_count": null,
   "id": "superior-adoption",
   "metadata": {},
   "outputs": [],
   "source": [
    "CreditCard.validator.unregister(name=\"is_credit_card\", condition=(\"card_type\",))\n",
    "CreditCard.validator.registered()"
   ]
  },
  {
   "cell_type": "markdown",
   "id": "broadband-knitting",
   "metadata": {},
   "source": [
    "Remove the default feature type validator for `is_visa_card` as in the next cell. Note that the handler has been removed."
   ]
  },
  {
   "cell_type": "code",
   "execution_count": null,
   "id": "large-chase",
   "metadata": {},
   "outputs": [],
   "source": [
    "CreditCard.validator.unregister(name='is_visa_card')\n",
    "CreditCard.validator.registered()"
   ]
  },
  {
   "cell_type": "markdown",
   "id": "verified-secretariat",
   "metadata": {},
   "source": [
    "<a id=\"reference\"></a>\n",
    "# References\n",
    "\n",
    "- [ADS Library Documentation](https://docs.cloud.oracle.com/en-us/iaas/tools/ads-sdk/latest/index.html)\n",
    "- [OCI Data Science Documentation](https://docs.cloud.oracle.com/en-us/iaas/data-science/using/data-science.htm)\n",
    "- [Oracle Data & AI Blog](https://blogs.oracle.com/datascience/)\n",
    "- [Data Science YouTube Videos](https://www.youtube.com/playlist?list=PLKCk3OyNwIzv6CWMhvqSB_8MLJIZdO80L)\n"
   ]
  }
 ],
 "metadata": {
  "kernelspec": {
   "display_name": "Python [conda env:neurophysiologyv1_0]",
   "language": "python",
   "name": "conda-env-neurophysiologyv1_0-py"
  },
  "language_info": {
   "codemirror_mode": {
    "name": "ipython",
    "version": 3
   },
   "file_extension": ".py",
   "mimetype": "text/x-python",
   "name": "python",
   "nbconvert_exporter": "python",
   "pygments_lexer": "ipython3",
   "version": "3.7.10"
  }
 },
 "nbformat": 4,
 "nbformat_minor": 5
}
