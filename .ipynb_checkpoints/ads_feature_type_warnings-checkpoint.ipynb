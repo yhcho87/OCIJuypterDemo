{
 "cells": [
  {
   "cell_type": "markdown",
   "id": "94b7c213",
   "metadata": {},
   "source": [
    "ADS Sample Notebook.\n",
    "\n",
    "Copyright (c) 2021 Oracle, Inc. All rights reserved. Licensed under the Universal Permissive License v 1.0 as shown at https://oss.oracle.com/licenses/upl.\n",
    "\n",
    "***\n",
    "# <font color=red>Feature Type Warnings</font>\n",
    "<p style=\"margin-left:10%; margin-right:10%;\">by the <font color=teal>  Oracle Cloud Infrastructure Data Science Service Team </font></p>\n",
    "\n",
    "***\n",
    "\n",
    "# Overview:\n",
    "\n",
    "Feature type warnings are part of the feature type system in ADS. It allows you to automate the process of checking for data quality issues. One of the most time-consuming processes of the exploratory data analysis (EDA) step is examining the data to make sure that it meets data quality standards. Historically, this has been a manual process and when the existing data is updated or a new dataset is used, the process has to be repeated. The feature type warning infrastructure allows you to code checks on the data and then repeat the process each time a new dataset is used. Since the code is at the feature type level, it is possible to reuse the feature type warnings across an entire organization's data.\n",
    "\n",
    "The feature type warning system works across an entire feature. For example, you can check for the number of missing values and set a threshold on what is the permitted upper limit. This can be a count, percentage, or some other metric. You can also create mechanisms where you check to ensure that the data has the distribution that is assumed by the model class that you want to use. For example, linear regression assumes that the data is normally distributed. Therefore, the feature type warning might have a Shapiro-Wilk test and a threshold for what is an expected value.\n",
    "\n",
    "Each feature can have as many feature type warnings as you want. Also, the multiple inheritance nature of the feature type system allows you to write-only the feature type warnings that are relevant for that specific feature type because the warnings for all inherited feature types to be checked. This feature reduces the amount of code duplication and speeds up your EDA.\n",
    "\n",
    "---\n",
    "\n",
    "## Prerequisites:\n",
    " - Experience with a specific topic: Intermediate\n",
    " - Professional experience: Basic\n",
    "\n",
    "---\n",
    "\n",
    "## Objectives:\n",
    "\n",
    " - <a href='#overview'>Overview</a>\n",
    " - <a href=\"#warnings\">Feature Type Warnings</a>\n",
    " - <a href=\"#validating_data\">Validating Data</a>\n",
    " - <a href=\"#examining\">Examining Feature Type Warnings</a>\n",
    " - <a href=\"#register_unregister\">Register and Unregistering a Feature Type Warning</a>\n",
    "     - <a href=\"#register\">Register a Feature Type Warning</a>\n",
    "     - <a href=\"#unregister\">Unregister a Feature Type Warning</a>\n",
    " - <a href=\"#dataframe\">Working with a DataFrame</a>\n",
    " - <a href=\"#reference\">References</a>\n",
    "\n",
    "---\n",
    "\n",
    "**Important:**\n",
    "\n",
    "Placeholder text for required values are surrounded by angle brackets that must be removed when adding the indicated content. For example, when adding a database name to `database_name = \"<database_name>\"` would become `database_name = \"production\"`.\n",
    "\n",
    "---\n",
    "\n",
    "<font color=gray>Datasets are provided as a convenience. Datasets are considered third party content and are not considered materials under your agreement with Oracle applicable to the services. The [`orcl_attrition` dataset](oracle_data/UPL.txt) is distributed under the UPL license.\n",
    "</font>"
   ]
  },
  {
   "cell_type": "code",
   "execution_count": null,
   "id": "ff6b0a89",
   "metadata": {},
   "outputs": [],
   "source": [
    "import ads\n",
    "import numpy as np\n",
    "import os\n",
    "import pandas as pd\n",
    "\n",
    "from ads.feature_engineering import feature_type_manager, Tag"
   ]
  },
  {
   "cell_type": "markdown",
   "id": "dbc1a00f",
   "metadata": {},
   "source": [
    "<a id=\"overview\"></a>\n",
    "# Feature Type System\n",
    "\n",
    "The feature type system allows the data scientist to separate the concept of how data is represented physically from what the data actually measures. The data can have feature types that classify the data based on what it represents and not how the data is stored in memory. Each feature can have multiple feature types through a system of multiple inheritances. For example, an organization that sells cars might have a set of data that represents their purchase price of a car (the wholesale price). This could have a feature set of `wholesale_price`, `car_price`, `USD`, and `continuous`. This multiple inheritance allows a data scientist to create <a href=\"#warnings\">feature type warnings</a> for each feature type.\n",
    "\n",
    "Feature type warnings are used for rapid validation of the data. For example, the `wholesale_price` might have a method that ensures that the value is a positive number because you can't purchase a car with negative money. The `car_price` feature type might have a check to ensure that it is within a reasonable price range. `USD` can check the value to make sure that it represents a valid US dollar amount and it isn't below one cent. The `continuous` feature type is the default type, and it represents the way the data is stored internally.\n",
    "\n",
    "<a id=\"warnings\"></a>\n",
    "# Feature Type Warnings\n",
    "\n",
    "Part of the exploratory data analysis (EDA) is to check the state or condition of your data. This is checking to ensure that there are no missing values.  With categorical data, you often want to ensure that the cardinality is low enough for the type of modeling that you are doing. Since the feature type system is meant to understand the nature of your data, and is an ideal mechanism to help automate the evaluation of the data. This evaluation is done by registering feature type warnings handlers with ADS.\n",
    "\n",
    "Feature type warning handlers are functions that are built-in or user-defined. They perform an analysis of a feature to determine whether there are any data condition problems. For example, it might report that a feature is skewed when the expectation is that the data is normally distributed. Another common example is that the data might have more than some threshold of missing values. ADS comes with various common warnings built-in for the feature types that it supports. However, you are able to create and register any warnings that you want.\n",
    "\n",
    "Feature type warnings are defined at the feature type level. Warnings can be registered dynamically at runtime. The `feature_type_manager.warning_registered()` shows a dataframe of registered warnings of each registered feature type. The three columns of the returned dataframes are:\n",
    "\n",
    "- `Feature Type`: Feature Type class name.\n",
    "- `Warning`: Warning name.\n",
    "- `Handler`: Registered warning handler for that feature type."
   ]
  },
  {
   "cell_type": "code",
   "execution_count": null,
   "id": "52fdaafc",
   "metadata": {},
   "outputs": [],
   "source": [
    "feature_type_manager.warning_registered()"
   ]
  },
  {
   "cell_type": "markdown",
   "id": "dee7f81e",
   "metadata": {},
   "source": [
    "<a id=\"validating_data\"></a>\n",
    "# Validating Data\n",
    "\n",
    "The `.warning()` method runs all the data quality tests on a feature. It creates a dataframe where each row is the result of a test that generated a warning. The dataframe contains the feature and warning type that generated a warning. There is also a human-readable message that explains the warning. The metric and value columns contain information about the metric that was used and the value of that metric.\n",
    "\n",
    "In the next cell, a set of credit card values is used as the dataset. The feature type is set to `credit_card` and the feature type warnings are reported."
   ]
  },
  {
   "cell_type": "code",
   "execution_count": null,
   "id": "834beaa2",
   "metadata": {},
   "outputs": [],
   "source": [
    "visa = [\"4532640527811543\", \"4556929308150929\", \"4539944650919740\", \"4485348152450846\", \"4556593717607190\"]\n",
    "amex = [\"371025944923273\", \"374745112042294\", \"340984902710890\", \"375767928645325\", \"370720852891659\"]\n",
    "invalid = [np.nan, None, \"\", \"123\", \"abc\"]\n",
    "series = pd.Series(visa + amex + invalid, name='creditcard')\n",
    "series.ads.feature_type = ['credit_card']\n",
    "series.ads.warning()"
   ]
  },
  {
   "cell_type": "markdown",
   "id": "30a4e21f",
   "metadata": {},
   "source": [
    "There are several things to notice about the generated dataframe. While the feature type was set to `credit_card`, the dataframe also lists `string` in the feature type column. This is because the default feature type is `string` so the feature type warning system also ran the tests for the `string` feature type.\n",
    "\n",
    "The tuple (`credit_card`, `missing`) reports two warnings. This is because each warning can perform as many tests as it wants and reports as many warnings as required. This is also true for the (`string`, `missing`) tuple.\n",
    "\n",
    "<a id=\"examining\"></a>\n",
    "# Examining Feature Type Warnings\n",
    "\n",
    "Feature type warning handlers are functions that have been registered with ADS. The `.warning.registered()` method is part of the `warning` module and allows you to examine what warnings have been registered for a given feature type. \n",
    "\n",
    "The next cell uses the feature type manager to get a handle to the `credit_card` class. This class is an `ads.feature_engineering.feature_type.base.FeatureType` object that lists the name of the feature type warning and its handler."
   ]
  },
  {
   "cell_type": "code",
   "execution_count": null,
   "id": "72940f07",
   "metadata": {},
   "outputs": [],
   "source": [
    "CreditCard = feature_type_manager.feature_type_object('credit_card')\n",
    "CreditCard.warning.registered()"
   ]
  },
  {
   "cell_type": "markdown",
   "id": "e0cf5cdb",
   "metadata": {},
   "source": [
    "<a id=\"register_unregister\"></a>\n",
    "# Register and Unregistering a Feature Type Warning\n",
    "\n",
    "In the <a href=\"#validating_data\">Validating Data</a> section, a set of credit cards numbers were created. Several missing values were found by the feature type warning tests. However, there are credit card numbers that aren't not valid. The feature type warning system didn't pick up on this because there was no test for it. This problem can be solved by creating a feature type warning that detects this.\n",
    "\n",
    "\n",
    "<a id=\"register\"></a>\n",
    "## Register a Feature Type Warning\n",
    "\n",
    "This section shows you how to create a new feature type warning. The goal of this example is to create a feature type warning handler using the built-in  `.is_credit_card()` feature handler. The example also registers the handler and demonstrates that it is able to create warnings for invalid credit card numbers.\n",
    "\n",
    "There are two steps to creating a feature type warning. The first is to write a function that accepts a Pandas series and returns a carefully crafted dataframe. If there are no warnings, then the dataframe can be empty or the handler can return `None`. The dataframe has to have the following columns:\n",
    "\n",
    "* `Warning`: A string that describes the type of warning.\n",
    "* `Message`: A human-readable message about the warning.\n",
    "* `Metric`: A string that describes what is being measured.\n",
    "* `Value`: The value associated with the metric.\n",
    "\n",
    "The next cell uses the feature type warning handler, `invalid_credit_card_handler`, which uses the `.is_credit_card()` feature handler to create a binary list indicating whether the credit card number is valid or not. It then computes the number of invalid cards. If there are any invalid cards, then it creates a row in a dataframe with the relevant information. If not, it returns `None`. This example returns one row at most. However, it can return as many rows as needed. For example, it could return a row for each credit card that is invalid and provide the credit card number."
   ]
  },
  {
   "cell_type": "code",
   "execution_count": null,
   "id": "ca9fd579",
   "metadata": {},
   "outputs": [],
   "source": [
    "def invalid_credit_card_handler(x: pd.Series):\n",
    "    value = len(x) - CreditCard.validator.is_credit_card(x).sum()\n",
    "    if value > 0:\n",
    "        df = pd.DataFrame(columns=['Warning', 'Message', 'Metric', 'Value'])\n",
    "        df.Value = [value]\n",
    "        df.Warning = ['invalid credit card count']\n",
    "        df.Message = [f'{df.Value.values[0]} invalid credit cards']\n",
    "        df.Metric = ['count']\n",
    "        return df"
   ]
  },
  {
   "cell_type": "markdown",
   "id": "084c7d90",
   "metadata": {},
   "source": [
    "Feature type warnings are registered with the feature type of interest. You can assign the same handler to multiple feature types. In this example, the feature type manager is used to get a handle to the `credit_card` class, which is an `ads.feature_engineering.feature_type.base.FeatureType` class. The  `.register()` method in the `warning` module registers the handler for the warning. You give it a name for the handler and the handler function. The optional `replace = True` parameter overwrites the handler when the name exists."
   ]
  },
  {
   "cell_type": "code",
   "execution_count": null,
   "id": "5f73b3fd",
   "metadata": {},
   "outputs": [],
   "source": [
    "CreditCard = feature_type_manager.feature_type_object('credit_card')\n",
    "CreditCard.warning.register(name='invalid_credit_card', \n",
    "                                    handler=invalid_credit_card_handler, \n",
    "                                    replace=True)"
   ]
  },
  {
   "cell_type": "markdown",
   "id": "79394a8d",
   "metadata": {},
   "source": [
    "Using the `.registered()` method in the `warning` module, you can see that the `invalid_credit_card` handler has been registered:"
   ]
  },
  {
   "cell_type": "code",
   "execution_count": null,
   "id": "63466cb9",
   "metadata": {},
   "outputs": [],
   "source": [
    "CreditCard.warning.registered()"
   ]
  },
  {
   "cell_type": "markdown",
   "id": "b1ddd8c3",
   "metadata": {},
   "source": [
    "Run the `.warning()` method on the feature to show the updated warnings. Notice the `invalid credit card count` in the warning column:"
   ]
  },
  {
   "cell_type": "code",
   "execution_count": null,
   "id": "8956c1f1",
   "metadata": {},
   "outputs": [],
   "source": [
    "series.ads.warning()"
   ]
  },
  {
   "cell_type": "markdown",
   "id": "84cd29ee",
   "metadata": {},
   "source": [
    "<a id=\"unregister\"></a>\n",
    "## Unregister a Feature Type Warning\n",
    "\n",
    "You can remove a feature type warning from a feature type using the `.unregister()` method of the `warning` module. It accepts the name of the feature type warning. If the warning doesn't exist, it return a `WarningNotFound` exception.\n",
    "\n",
    "The next cell removes the `high-cardinality` warning and the remaining feature type warnings are displayed"
   ]
  },
  {
   "cell_type": "code",
   "execution_count": null,
   "id": "a5139a32",
   "metadata": {},
   "outputs": [],
   "source": [
    "CreditCard.warning.unregister('high_cardinality')\n",
    "CreditCard.warning.registered()"
   ]
  },
  {
   "cell_type": "markdown",
   "id": "59fc9942",
   "metadata": {},
   "source": [
    "<a id=\"dataframe\"></a>\n",
    "# Working with a DataFrame\n",
    "\n",
    "While working with a Pandas series can be powerful, it is often more convenient to check for warnings on an entire dataframe. This section uses the orcl_attrition.csv dataset to look at dataframe level operations that you can perform with the feature type warning tools.\n",
    "\n",
    "The next cell loads the sample dataset:"
   ]
  },
  {
   "cell_type": "code",
   "execution_count": null,
   "id": "686fa71c",
   "metadata": {},
   "outputs": [],
   "source": [
    "attrition_path = os.path.join('/opt', 'notebooks', 'ads-examples', 'oracle_data', 'orcl_attrition.csv')\n",
    "df = pd.read_csv(attrition_path, \n",
    "                 usecols=['Age', 'Attrition', 'JobFunction', 'EducationalLevel', 'EducationField', \n",
    "                          'Gender', 'JobRole','MonthlyIncome'\n",
    "                          ])\n",
    "df.head()"
   ]
  },
  {
   "cell_type": "code",
   "execution_count": null,
   "id": "69a32ac8",
   "metadata": {},
   "outputs": [],
   "source": [
    "df.ads.feature_type"
   ]
  },
  {
   "cell_type": "code",
   "execution_count": null,
   "id": "9f2e84c6",
   "metadata": {},
   "outputs": [],
   "source": [
    "df.ads.feature_type = {'Age': ['integer'],\n",
    " 'Attrition': ['category'],\n",
    " 'JobFunction': ['string'],\n",
    " 'EducationalLevel': ['string'],\n",
    " 'EducationField': ['string'],\n",
    " 'Gender': ['string'],\n",
    " 'JobRole': ['string'],\n",
    " 'MonthlyIncome': ['integer']}"
   ]
  },
  {
   "cell_type": "code",
   "execution_count": null,
   "id": "734f1df8",
   "metadata": {},
   "outputs": [],
   "source": [
    "df.ads.feature_type"
   ]
  },
  {
   "cell_type": "code",
   "execution_count": null,
   "id": "6f0caa4e",
   "metadata": {},
   "outputs": [],
   "source": [
    "df['Attrition'].ads.feature_type"
   ]
  },
  {
   "cell_type": "markdown",
   "id": "b374492d",
   "metadata": {},
   "source": [
    "After the data is loaded, the feature types only have the default feature type. This is based on the Pandas dtypes. "
   ]
  },
  {
   "cell_type": "code",
   "execution_count": null,
   "id": "263bd461",
   "metadata": {},
   "outputs": [],
   "source": [
    "df.ads.feature_type"
   ]
  },
  {
   "cell_type": "markdown",
   "id": "dbbcd6d1",
   "metadata": {},
   "source": [
    "The `.feature_type` property accepts a dictionary where the keys are the column names and the values are a list of the feature types that are to be assigned to each column. Only the columns you want to update are needed in the dictionary. This cell excludes `Age` because its default feature type, `integer`, is sufficient:"
   ]
  },
  {
   "cell_type": "code",
   "execution_count": null,
   "id": "5867a9d9",
   "metadata": {},
   "outputs": [],
   "source": [
    "df.ads.feature_type = {'Attrition': ['boolean', 'category', Tag('target')],\n",
    "                         'JobFunction': ['category'],\n",
    "                         'EducationalLevel': ['category'],\n",
    "                         'EducationField': ['category'],\n",
    "                         'Gender': ['category'],\n",
    "                         'JobRole': ['category'],\n",
    "                         'MonthlyIncome': ['continuous']}\n",
    "df.ads.feature_type"
   ]
  },
  {
   "cell_type": "markdown",
   "id": "0efa204a",
   "metadata": {},
   "source": [
    "The `.warning_registered()` method on the dataframe shows all of the feature type warnings for all of the columns in the dataframe:"
   ]
  },
  {
   "cell_type": "code",
   "execution_count": null,
   "id": "5fe35d34",
   "metadata": {},
   "outputs": [],
   "source": [
    "df.ads.warning_registered()"
   ]
  },
  {
   "cell_type": "markdown",
   "id": "5f118894",
   "metadata": {},
   "source": [
    "The method `.warning()` on the dataframe shows all of the warnings for all of the columns in the dataframe. This is a quick way to see all of your data with a single command."
   ]
  },
  {
   "cell_type": "code",
   "execution_count": null,
   "id": "03e0d7ba",
   "metadata": {},
   "outputs": [],
   "source": [
    "df.ads.warning()"
   ]
  },
  {
   "cell_type": "markdown",
   "id": "3c184928",
   "metadata": {},
   "source": [
    "<a id=\"reference\"></a>\n",
    "# References\n",
    "\n",
    "- [ADS Library Documentation](https://docs.cloud.oracle.com/en-us/iaas/tools/ads-sdk/latest/index.html)\n",
    "- [OCI Data Science Documentation](https://docs.cloud.oracle.com/en-us/iaas/data-science/using/data-science.htm)\n",
    "- [Oracle Data & AI Blog](https://blogs.oracle.com/datascience/)\n",
    "- [Data Science YouTube Videos](https://www.youtube.com/playlist?list=PLKCk3OyNwIzv6CWMhvqSB_8MLJIZdO80L)\n"
   ]
  }
 ],
 "metadata": {
  "kernelspec": {
   "display_name": "Python [conda env:neurophysiologyv1_0]",
   "language": "python",
   "name": "conda-env-neurophysiologyv1_0-py"
  },
  "language_info": {
   "codemirror_mode": {
    "name": "ipython",
    "version": 3
   },
   "file_extension": ".py",
   "mimetype": "text/x-python",
   "name": "python",
   "nbconvert_exporter": "python",
   "pygments_lexer": "ipython3",
   "version": "3.7.10"
  }
 },
 "nbformat": 4,
 "nbformat_minor": 5
}
