{
 "cells": [
  {
   "cell_type": "markdown",
   "metadata": {},
   "source": [
    "ADS Sample Notebook.\n",
    "\n",
    "Copyright (c) 2021 Oracle, Inc. All rights reserved. Licensed under the Universal Permissive License v 1.0 as shown at https://oss.oracle.com/licenses/upl.\n",
    "\n",
    "***\n",
    "# <font color=red>Custom Feature Type</font>\n",
    "<p style=\"margin-left:10%; margin-right:10%;\">by the <font color=teal>Oracle Cloud Infrastructure Data Science Service Team</font></p>\n",
    "\n",
    "***\n",
    "\n",
    "\n",
    "# Overview:\n",
    "\n",
    "The feature type system allows data scientists to separate the concept of how data is represented physically from what the data actually measures. The data can have feature types that classify the data based on what it represents and not how the data is stored in memory. Each set of data can have multiple feature types through a system of multiple inheritances. While ADS comes with a collection of common feature types, the power of the system is that an organization can create custom feature types for their data. This notebook provides an overview of how to create custom feature types.  \n",
    "\n",
    "---\n",
    "\n",
    "## Prerequisites:\n",
    "- Experience with a specific topic: Intermediate\n",
    "- Professional experience: Basic\n",
    "\n",
    "---\n",
    "\n",
    "## Objectives:\n",
    "\n",
    "- <a href='#overview'>Feature Type System</a>\n",
    "- <a href=\"#feature_type_create\">Create a Custom Feature Type</a>\n",
    "- <a href=\"#feature_type_attributes\">Attributes</a>\n",
    "- <a href=\"#feature_type_stats\">Feature Type Statistics</a>\n",
    "- <a href=\"#feature_type_plot\">Feature Type Plot</a>\n",
    "- <a href=\"#feature_type_method\">Custom Method in a Feature Type Class</a>\n",
    "- <a href='#unregister_custom_type'>Unregistering a Custom Feature Type</a>\n",
    "- <a href=\"#reference\">References</a>\n",
    "\n",
    "---\n",
    "\n",
    "**Important:**\n",
    "\n",
    "Placeholder text for required values are surrounded by angle brackets that must be removed when adding the indicated content. For example, when adding a database name to `database_name = \"<database_name>\"` would become `database_name = \"production\"`.\n",
    "\n",
    "---\n",
    "\n",
    "<font color=gray>Datasets are provided as a convenience. Datasets are considered third-party content and are not considered materials under your agreement with Oracle applicable to the services. The [`orcl_attrition` dataset](oracle_data/UPL.txt) is distributed under the UPL license.\n",
    "</font>"
   ]
  },
  {
   "cell_type": "code",
   "execution_count": null,
   "metadata": {},
   "outputs": [],
   "source": [
    "import ads\n",
    "import matplotlib.pyplot as plt\n",
    "import numpy as np\n",
    "import pandas as pd\n",
    "import re\n",
    "import seaborn as sns\n",
    "\n",
    "from ads.feature_engineering import feature_type_manager, FeatureType\n",
    "from ads.common.card_identifier import card_identify"
   ]
  },
  {
   "cell_type": "markdown",
   "metadata": {},
   "source": [
    "<a id='overview'></a>\n",
    "# Feature Type System\n",
    "\n",
    "The feature type system allows the data scientist to separate the concept of how data is represented physically from what the data actually measures. The data can have feature types that classify the data based on what it represents and not how the data is stored in memory. Each feature can have multiple feature types through a system of multiple inheritances. For example, an organization that sells cars might have a set of data that represents the purchase price of a car (the wholesale price). This could have a feature set of `wholesale_price`, `car_price`, `USD`, and `continuous`.\n",
    "\n",
    "While ADS comes with a number of built-in feature types, the power lies in its flexibility for you to quickly create feature types that can be shared across your organization. A custom feature type is created by defining a class that is derived from the `FeatureType` class or one of its subclasses. This class comes with several attributes and methods that can be overridden so that it meets your specific needs. However, there is no requirement to override any property of the base class.\n",
    "\n",
    "A feature type has the following attributes that can be overridden:\n",
    "\n",
    "- `description`: A description of the feature type.\n",
    "- `name`: The name of the feature type.\n",
    "\n",
    "If you wish to create custom summary statistics for a feature type, then override the `.feature_stat()` method. To create a custom summary plot, override the `.feature_plot()` method.\n",
    "\n",
    "The focus of this notebook is to demonstrate how to create a custom feature type.\n",
    "\n",
    "<a id=\"feature_type_create\"></a>\n",
    "# Create a Custom Feature Type\n",
    "\n",
    "The feature type framework comes with some common feature types. However, the power of using feature types is that you can easily create your own, and apply them to your specific data. You don't need to try to represent your data in a synthetic way that does not match the nature of your data. This framework allows you to create methods that validate whether the data fits the specifications of your organization.\n",
    "\n",
    "To create a custom feature type, you need to create a class that is inherited from the `FeatureType` class. The class must be registered with ADS before it can be used. You do this using the `feature_type_manager.feature_type_register()` method and pass in the name of the class.\n",
    "\n",
    "In the next cell, the custom feature type, `CustomCreditCard`, is created and is inherited from the `FeatureType` base class. The class overrides the `name` attribute to set a custom name for the class. If it is not overridden then the name will automatically be determined by the class name and converted to snake case. The name can be used to register and unregister a class. It is also used in several outputs to identify the class. When assigning a feature type to a series, the name can be used to identify the class.\n",
    "\n",
    "The `description` attribute allows you to provide detailed information about a feature type. If it is not overridden the description will default to 'Base Feature Type.'\n",
    "\n",
    "The `.feature_stat()` provides a mechanism to provide summary statistics for a feature type. If this method is not overridden and `.feature_stat()` is called on a feature type the multiple inheritance mechanism will be used. For example, we may create a feature type called `wholesale_price` and then a Pandas series called `car_price`. `car_price` has the following feature types: `wholesale_price`, `car_price`, `USD`, and `continuous`. Assuming that `.feature_stat()` is not overridden in the `wholesale_price` class, the system will attempt to generate the feature statistics using the `.feature_stat()` method defined in its parent feature type, `car_price`. This will continue until a feature type has defined the `.feature_stat()` method. If none of the custom feature type classes implement `.feature_stat()` it will fall through to the default feature type which always has this method implemented.\n",
    "\n",
    "In the next cell, the `.feature_stat()` method is implemented. It will create a dataframe where the index is the name of the metric. There will be one column that is the value that is associated with the metric.\n",
    "\n",
    "The `.feature_plot()` method can be overridden such that a custom plot can be created for the data. Just like the `.feature_stat()` method, if it is not overridden a plot will be generated by the multiple inheritance mechanism. All default feature types have a defined `.feature_plot()`. Since the default feature type's plotting method is generic, it may or may not provide a good representation of the data.\n",
    "\n",
    "In the next cell, the `.feature_plot()` method creates a bar chart with the count of the issuing financial institution. \n",
    "\n",
    "\n",
    "As with all classes, it is possible to add additional attributes and methods that may be helpful when working with a feature type. The next cell implements a method called `.issuer()`. Since the class that we are creating is a custom credit card, this would be a handy piece of information.\n",
    "\n",
    "The important rule is that all methods of the feature type must be `static` or `class` level methods and should take a Pandas series as a first argument."
   ]
  },
  {
   "cell_type": "code",
   "execution_count": null,
   "metadata": {},
   "outputs": [],
   "source": [
    "def assign_issuer(cardnumber):\n",
    "    \"\"\"\n",
    "    Identifies the credit card type.\n",
    "    \"\"\"\n",
    "    if pd.isnull(cardnumber):\n",
    "        return \"missing\"\n",
    "    else:\n",
    "        return card_identify().identify_issue_network(cardnumber)\n",
    "\n",
    "class CustomCreditCard(FeatureType):\n",
    "    \"\"\"Type representing custom credit card numbers.\n",
    "\n",
    "    Attributes\n",
    "    ----------\n",
    "    description: str\n",
    "        The feature type description.\n",
    "    name: str\n",
    "        The feature type name.\n",
    "    \n",
    "    Methods\n",
    "    --------\n",
    "    register_handler(cls, name: str, default_handler: Callable) -> None\n",
    "        Registers a new handler for a feature type.\n",
    "    unregister_handler(cls, name: str) -> None\n",
    "        Unregisters a handler.\n",
    "    registered_handlers(cls) -> pd.DataFrame\n",
    "        Gets the list of registered handlers.\n",
    "    feature_stat(x: pd.Series) -> pd.DataFrame\n",
    "        Generates feature statistics.        \n",
    "    feature_plot(x: pd.Series) -> plt.Axes\n",
    "        Generates plot object.\n",
    "    \"\"\"\n",
    "    description = \"This is an example of a custom credit card feature type.\"\n",
    "    name=\"Custom Credit Card\"\n",
    "       \n",
    "    @staticmethod\n",
    "    def issuer(series: pd.Series) -> pd.Series:\n",
    "        \"\"\"Identifies the credit card type.\n",
    "        \n",
    "        Parameters\n",
    "        ----------\n",
    "        series: pd.Series\n",
    "            The data to process.\n",
    "        \n",
    "        Returns\n",
    "        -------\n",
    "        pd.Series: The result of processing data.\n",
    "        \"\"\"\n",
    "        return series.apply(lambda card_number: 'Missing'\n",
    "                       if pd.isnull(card_number) else card_identify().identify_issue_network(card_number))    \n",
    "    \n",
    "    @staticmethod\n",
    "    def feature_stat(series: pd.Series) -> pd.DataFrame:\n",
    "        \"\"\"Generates feature statistics.\n",
    "\n",
    "        Feature statistics include (total)count, unique(count), missing(count) and\n",
    "            count of each credit card type.\n",
    "        \n",
    "        Parameters\n",
    "        ----------\n",
    "        series: pd.Series\n",
    "            The data to process.\n",
    "\n",
    "        Returns\n",
    "        -------\n",
    "        Pandas Dataframe\n",
    "            Summary statistics of the Series or Dataframe provided.\n",
    "        \"\"\"\n",
    "        \n",
    "        def _count_unique_missing(series: pd.Series):\n",
    "            \"\"\"Return the total count, unique count and count of missing values of a series.\"\"\"\n",
    "\n",
    "            def _add_missing(series, df):\n",
    "                \"\"\"Add count of missing values.\"\"\"\n",
    "                n_missing = pd.isnull(series.replace(r'', np.NaN)).sum()\n",
    "                if n_missing > 0:\n",
    "                    df.loc['missing'] = n_missing\n",
    "                return df\n",
    "\n",
    "            df_stat = pd.Series({'count': len(series),\n",
    "                                 'unique': len(series.replace(r'', np.NaN).dropna().unique())},\n",
    "                                name=series.name).to_frame()\n",
    "            return _add_missing(series, df_stat)\n",
    "\n",
    "        df_stat = _count_unique_missing(series)\n",
    "        card_types = series.apply(assign_issuer)\n",
    "        value_counts = card_types.value_counts()\n",
    "        value_counts.index = [\n",
    "            \"count_\" + cardtype for cardtype in list(value_counts.index)\n",
    "        ]\n",
    "        return pd.concat([df_stat, value_counts.to_frame()])\n",
    "    \n",
    "    @staticmethod\n",
    "    def feature_plot(x: pd.Series) -> plt.Axes:\n",
    "        \"\"\"Generates plot object.\n",
    "\n",
    "        Bar plot include present count of each credit card type.\n",
    "        \n",
    "        Parameters\n",
    "        ----------\n",
    "        series: pd.Series\n",
    "            The data to process.\n",
    "\n",
    "        Returns\n",
    "        -------\n",
    "        matplotlib.axes._subplots.AxesSubplot\n",
    "            Plot object for the series based on the CreditCard feature type.\n",
    "        \"\"\"\n",
    "        card_types = x.apply(assign_issuer)\n",
    "        df = card_types.value_counts().to_frame()\n",
    "        if len(df.index):\n",
    "            ax = sns.barplot(x=df.index, y=list(df.iloc[:, 0]), color='#76A2A0')\n",
    "            ax.set(xlabel=\"Issuing Financial Institution\")\n",
    "            ax.set(ylabel=\"Count\")\n",
    "            return ax"
   ]
  },
  {
   "cell_type": "markdown",
   "metadata": {},
   "source": [
    "Once the feature type class has been created, it must be registered with ADS using the `feature_type_manager.feature_type_register()` method. The next cell registers the `CustomCreditCard` and displays all feature types."
   ]
  },
  {
   "cell_type": "code",
   "execution_count": null,
   "metadata": {},
   "outputs": [],
   "source": [
    "try:\n",
    "    feature_type_manager.feature_type_register(CustomCreditCard)\n",
    "except:\n",
    "    pass\n",
    "feature_type_manager.feature_type_registered()"
   ]
  },
  {
   "cell_type": "markdown",
   "metadata": {},
   "source": [
    "<a id=\"feature_type_attributes\"></a>\n",
    "# Attributes\n",
    "\n",
    "The attributes `name` and `description` can be accessed in the standard method that the attributes of any class can be accessed. \n",
    "\n",
    "The name assigned to the `CustomCreditCard` class can be determined by calling `CustomCreditCard.name`."
   ]
  },
  {
   "cell_type": "code",
   "execution_count": null,
   "metadata": {},
   "outputs": [],
   "source": [
    "CustomCreditCard.name"
   ]
  },
  {
   "cell_type": "markdown",
   "metadata": {},
   "source": [
    "The same approach works for the `description` attribute."
   ]
  },
  {
   "cell_type": "code",
   "execution_count": null,
   "metadata": {},
   "outputs": [],
   "source": [
    "CustomCreditCard.description"
   ]
  },
  {
   "cell_type": "markdown",
   "metadata": {},
   "source": [
    "<a id=\"feature_type_stats\"></a>\n",
    "# Feature Type Statistics\n",
    "\n",
    "The `.feature_stat()` method is used to provide summary statistics about a Pandas series that are specific for the feature type. In the `CustomCreditCard` class, the summary statistics were count, unique credit card numbers, the number of missing values and the number of credit cards from each issuer. The power of the feature type statistic is that you can create any number of summary statistics that will adequately summarize your feature type.\n",
    "\n",
    "The summary statistics can be accessed by calling `.feature_stat()` on a series using the feature type class. The next cell creates a dataframe of credit cards and uses this approach to output the summary statistics."
   ]
  },
  {
   "cell_type": "code",
   "execution_count": null,
   "metadata": {},
   "outputs": [],
   "source": [
    "creditcard_numbers = [\"4532640527811543\", \"4556929308150929\", \"4539944650919740\", \"4485348152450846\", \"4556593717607190\",\n",
    "                       \"5406644374892259\", \"5440870983256218\", \"5446977909157877\", \"5125379319578503\", \"5558757254105711\",\n",
    "                       \"371025944923273\", \"374745112042294\", \"340984902710890\", \"375767928645325\", \"370720852891659\",\n",
    "                       np.nan, None, \"\", \"111\", \"0\"]\n",
    "df = pd.DataFrame({'credit_card': creditcard_numbers})\n",
    "CustomCreditCard.feature_stat(df['credit_card'])"
   ]
  },
  {
   "cell_type": "markdown",
   "metadata": {},
   "source": [
    "The more common approach to generating summary statistics is to call `.feature_stat()` on the Pandas series itself. Before doing this, the series needs to be associated with the feature type 'Custom Credit Card'. The next cell makes `df['credit_card']` have the feature type 'Custom Credit Card' and then displays the summary statistics."
   ]
  },
  {
   "cell_type": "code",
   "execution_count": null,
   "metadata": {},
   "outputs": [],
   "source": [
    "df['credit_card'].ads.feature_type = ['Custom Credit Card']\n",
    "df['credit_card'].ads.feature_stat()"
   ]
  },
  {
   "cell_type": "markdown",
   "metadata": {},
   "source": [
    "<a id=\"feature_type_plot\"></a>\n",
    "# Feature Type Plot\n",
    "\n",
    "The `.feature_plot()` method is used to provide a univariate plot that is specific to a feature type.  You can create your own plot that will visualize your feature type. For the CustomCreditCard feature type, a bar chart was implemented in the `.feature_plot()` method. It counts the number of credit cards based on the issuing financial institution. It then sorts the counts from highest to lowest. The method returns a Seaborn plot object that can then be customized.\n",
    "\n",
    "The plot method can be accessed by calling `.feature_plot()` on a series. The next cell creates a Seaborn plot object for the feature type Custom Credit Card."
   ]
  },
  {
   "cell_type": "code",
   "execution_count": null,
   "metadata": {},
   "outputs": [],
   "source": [
    "df['credit_card'].ads.feature_plot()"
   ]
  },
  {
   "cell_type": "markdown",
   "metadata": {},
   "source": [
    "<a id=\"feature_type_method\"></a>\n",
    "# Custom Method in a Feature Type Class\n",
    "\n",
    "It is often desirable to add methods to a feature type class that provide extra functionality when working with that feature type. In the `CustomCreditCard` class the method `.issuer()` was added. This method returns the name of the organization that issued the credit card number.\n",
    "\n",
    "The custom method can be accessed by calling `.issuer()` on a series using the feature type class. The next uses this approach to create a series for credit card issuers. This approach has the advantage that the series, `df['credit_card']` does not have to have the feature type `CustomCreditCard`."
   ]
  },
  {
   "cell_type": "code",
   "execution_count": null,
   "metadata": {},
   "outputs": [],
   "source": [
    "CustomCreditCard.issuer(df['credit_card'])"
   ]
  },
  {
   "cell_type": "markdown",
   "metadata": {},
   "source": [
    "The more common approach is to call `.issuer()` on the Pandas series itself. Before doing this, the series needs to be associated with the feature type 'Custom Credit Card'. The next cell makes `df['credit_card']` have the feature type 'Custom Credit Card' and issuer of each credit card number."
   ]
  },
  {
   "cell_type": "code",
   "execution_count": null,
   "metadata": {},
   "outputs": [],
   "source": [
    "df['credit_card'].ads.feature_type = ['Custom Credit Card']\n",
    "df['credit_card'].ads.issuer()"
   ]
  },
  {
   "cell_type": "markdown",
   "metadata": {},
   "source": [
    "<a id='unregister_custom_type'></a>\n",
    "# Unregistering a Custom Feature Type\n",
    "\n",
    "To unregister custom feature type the `feature_type_manager.feature_type_unregister()` method can be used for this. This method accepts either a feature type object `feature_type_manager.feature_type_unregister(CustomCreditCard)` or its name `feature_type_manager.feature_type_unregister(\"Custom Credit Card\")`.\n",
    "\n",
    "The next cell unregisters the `CustomCreditCard` feature type and displays the currently registered feature types. Notice that `CustomCreditCard` is not listed."
   ]
  },
  {
   "cell_type": "code",
   "execution_count": null,
   "metadata": {},
   "outputs": [],
   "source": [
    "feature_type_manager.feature_type_unregister(CustomCreditCard)\n",
    "feature_type_manager.feature_type_registered()"
   ]
  },
  {
   "cell_type": "markdown",
   "metadata": {},
   "source": [
    "<a id=\"reference\"></a>\n",
    "# References\n",
    "- [Oracle ADS Library documentation](https://docs.cloud.oracle.com/en-us/iaas/tools/ads-sdk/latest/index.html)\n",
    "- [ADS Library Documentation](https://docs.cloud.oracle.com/en-us/iaas/tools/ads-sdk/latest/index.html)\n",
    "- [OCI Data Science Documentation](https://docs.cloud.oracle.com/en-us/iaas/data-science/using/data-science.htm)\n",
    "- [Oracle Data & AI Blog](https://blogs.oracle.com/datascience/)\n",
    "- [Data Science YouTube Videos](https://www.youtube.com/playlist?list=PLKCk3OyNwIzv6CWMhvqSB_8MLJIZdO80L)"
   ]
  }
 ],
 "metadata": {
  "interpreter": {
   "hash": "e134e05457d34029b6460cd73bbf1ed73f339b5b6d98c95be70b69eba114fe95"
  },
  "kernelspec": {
   "display_name": "Python [conda env:neurophysiologyv1_0]",
   "language": "python",
   "name": "conda-env-neurophysiologyv1_0-py"
  },
  "language_info": {
   "codemirror_mode": {
    "name": "ipython",
    "version": 3
   },
   "file_extension": ".py",
   "mimetype": "text/x-python",
   "name": "python",
   "nbconvert_exporter": "python",
   "pygments_lexer": "ipython3",
   "version": "3.7.10"
  },
  "pycharm": {
   "stem_cell": {
    "cell_type": "raw",
    "metadata": {
     "collapsed": false
    },
    "source": []
   }
  }
 },
 "nbformat": 4,
 "nbformat_minor": 4
}
