{
 "cells": [
  {
   "cell_type": "markdown",
   "metadata": {},
   "source": [
    "<font color=gray>ADS Sample Notebook.\n",
    "\n",
    "Copyright (c) 2021 Oracle, Inc. All rights reserved. Licensed under the Universal Permissive License v 1.0 as shown at https://oss.oracle.com/licenses/upl.\n",
    "</font>"
   ]
  },
  {
   "cell_type": "markdown",
   "metadata": {},
   "source": [
    "***\n",
    "# <font color=red>Getting Started with Oracle Cloud Infrastructure Data Science</font>\n",
    "<p style=\"margin-left:10%; margin-right:10%;\">by the <font color=teal> Oracle Cloud Infrastructure Data Science Service Team </font></p>\n",
    "\n",
    "***"
   ]
  },
  {
   "cell_type": "markdown",
   "metadata": {},
   "source": [
    "## Service Overview\n",
    "\n",
    "Welcome to Oracle Cloud Infrastructure Data Science Service.\n",
    "\n",
    "The Oracle Cloud Infrastructure Data Science service is a fully managed platform for data science teams to build, train, and manage machine learning models using Oracle Cloud Infrastructure (OCI).\n",
    "\n",
    "The Data Science service:\n",
    "\n",
    "* Provides data scientists with a collaborative, project-driven workspace.\n",
    "* Enables self-service access to infrastructure for data science workloads.\n",
    "* Includes Python-centric tools, libraries, and packages developed by the open-source community and the [Oracle Accelerated Data Science Library](https://docs.cloud.oracle.com/en-us/iaas/tools/ads-sdk/latest/index.html), which supports the end-to-end lifecycle of predictive models:\n",
    "    * Data acquisition, profiling, preparation, and visualization.\n",
    "    * Feature engineering.\n",
    "    * Model training.\n",
    "    * Model evaluation, explanation, and interpretation.\n",
    "    * Model storage through the [Model Catalog](https://docs.cloud.oracle.com/en-us/iaas/data-science/using/manage-models.htm). \n",
    "    * Model deployment.\n",
    "* Integrates with the rest of the OCI services, including [Oracle Functions](https://docs.cloud.oracle.com/en-us/iaas/Content/Functions/Concepts/functionsoverview.htm), [Data Flow](https://docs.cloud.oracle.com/en-us/iaas/data-flow/using/dfs_data_flow.htm), [Autonomous Data Warehouse](https://docs.cloud.oracle.com/en-us/iaas/Content/Database/Concepts/adboverview.htm), [Streaming](https://docs.cloud.oracle.com/en-us/iaas/Content/Streaming/Concepts/streamingoverview.htm), [Vault](https://docs.cloud.oracle.com/en-us/iaas/Content/KeyManagement/Concepts/keyoverview.htm), [Logging](https://docs.cloud.oracle.com/en-us/iaas/Content/Logging/Concepts/loggingoverview.htm#loggingoverview), and [Object Storage](https://docs.cloud.oracle.com/en-us/iaas/Content/Object/Concepts/objectstorageoverview.htm).\n",
    "* Helps data scientists concentrate on methodology and domain expertise to deliver more models to production.\n",
    "\n",
    "For more details, see the [Data Science documentation](https://docs.cloud.oracle.com/en-us/iaas/data-science/using/data-science.htm).\n",
    "\n",
    "---\n",
    "\n",
    "## Overview\n",
    "\n",
    "This **[Neurophysiology](https://docs.cloud.oracle.com/en-us/iaas/data-science/using/use-notebook-sessions.htm#conda_understand_environments)** conda environment provides the best-in-class tooling for analyzing, visualizing and exploring neurophysiological data. Using tools such as `MNE` and `Gumpy` empower you to create brain-computer interfaces (BCI) or visualize near-infrared spectroscopy (NIRS) data to assess tissue oxygenation. The tools also allow for the analysis of many different neurophysiological signals such as electrocorticograms (ECoG), electroencephalograms (EEG), stereoelectroencephalograms (sEEG), magnetoencephalograms (MEG), and much more. This environment also includes the \"lite\" distribution of Oracle Accelerated Data Science (`Oracle-ads`) library, which offers a variety of useful data access, profiling, and transformation features.\n",
    "\n",
    "\n",
    "---\n",
    "\n",
    "**Important:**\n",
    "\n",
    "Placeholder text for required values are surrounded by angle brackets that must be removed when adding the indicated content. For example, when adding a database name to `database_name = \"<database_name>\"` would become `database_name = \"production\"`.\n",
    "\n",
    "---\n",
    "\n",
    "## Prerequisites:\n",
    "- Experience with a specific topic: Novice\n",
    "- Professional experience: None\n",
    "\n",
    "---\n",
    "\n",
    "## Objectives:\n",
    "\n",
    "- <a href='#authentication'>Understanding Authentication to Oracle Cloud Infrastructure Resources from a Notebook Session</a>\n",
    "    - <a href='#resource_principals'>Authentication with Resource Principals</a>\n",
    "        - <a href='#resource_principals_ads'>Resource Principals Authentication using the ADS SDK</a>\n",
    "        - <a href='#resource_principals_oci'>Resource Principals Authentication using the OCI SDK</a>\n",
    "        - <a href='#resource_principals_cli'>Resource Principals Authentication using the OCI CLI</a> \n",
    "    - <a href='#api_keys'>Authentication with API Keys</a>\n",
    "- <a href='#conda'>Neurophysiology Conda Environment</a>\n",
    "    - <a href='#conda_overview'>Overview</a>\n",
    "    - <a href='#conda_libraries'>Principal Conda Libraries</a>\n",
    "    - <a href='#conda_configuration'>Configuration</a>\n",
    "- <a href='#ref'>References</a> \n",
    "\n",
    "---"
   ]
  },
  {
   "cell_type": "code",
   "execution_count": null,
   "metadata": {},
   "outputs": [],
   "source": [
    "import logging\n",
    "import warnings\n",
    "\n",
    "from ads import set_auth\n",
    "from ads import set_documentation_mode\n",
    "from oci.auth.signers import get_resource_principals_signer\n",
    "from oci.data_science import DataScienceClient\n",
    "from os import popen\n",
    "\n",
    "set_documentation_mode(False)\n",
    "warnings.filterwarnings('ignore')\n",
    "logging.basicConfig(format='%(levelname)s:%(message)s', level=logging.ERROR)"
   ]
  },
  {
   "cell_type": "markdown",
   "metadata": {},
   "source": [
    "<a id='authentication'></a>\n",
    "# Understanding Authentication to Oracle Cloud Infrastructure Resources from a Notebook Session\n",
    "\n",
    "When working within a notebook session, the `datascience` user is used. This user does not have an OCI Identity and Access Management (IAM) identity, so it has no access to the OCI API. To access OCI resources. This includes Data Science projects, models and any other OCI service resources from the notebook environment, you must configure either resource principals or API keys. For most applications, the resource principal is the recommended approach.\n",
    "\n",
    "<a id='resource_principals'></a>\n",
    "## Authentication with Resource Principals\n",
    "\n",
    "Data Science enables easy and secure authentication using the notebook session's resource principal to access other OCI resources, including Data Science projects and models. These steps show you how to use your notebook session's resource principal.\n",
    "\n",
    "In advance, a tenancy administrator must write policies to grant permissions to the resource principal to access other OCI resources, see [Manually Configuring Your Tenancy for Data Science](https://docs.cloud.oracle.com/en-us/iaas/data-science/using/configure-tenancy.htm).\n",
    "\n",
    "There are two methods to configure the notebook to use resource principals, and they are the `ads` and `oci` libraries. While both of these libraries provide the required authentication, the `ads` library is specifically designed for easy operation within a Data Science notebook session.\n",
    "\n",
    "If you don't wabt to take on these library dependencies, you can use the `oci` command from the command line.\n",
    "\n",
    "For more details on using resource principals in the Data Science service, see the [ADS Configuration documentation](https://docs.cloud.oracle.com/en-us/iaas/tools/ads-sdk/latest/user_guide/configuration/configuration.html#) and the [Authenticating to the Oracle Cloud Infrastructure APIs from a Notebook Session](https://docs.cloud.oracle.com/en-us/iaas/data-science/using/use-notebook-sessions.htm#topic_kxj_znw_pkb).\n",
    "\n",
    "<a id='resource_principals_ads'></a>\n",
    "### Resource Principals Authentication using the ADS SDK\n",
    "\n",
    "The `set_auth()` method sets the proper authentication mechanism for ADS. ADS uses the `oci` SDK to access resources like the model catalog or Object Storage.\n",
    "\n",
    "Within a notebook session, configure the use of a resource principal for the ADS SDK by running this in a notebook cell:"
   ]
  },
  {
   "cell_type": "code",
   "execution_count": null,
   "metadata": {},
   "outputs": [],
   "source": [
    "set_auth(auth='resource_principal') "
   ]
  },
  {
   "cell_type": "markdown",
   "metadata": {},
   "source": [
    "<a id='resource_principals_oci'></a>\n",
    "### Resource Principals Authentication using the OCI SDK\n",
    "\n",
    "Within your notebook session, the `oci` library can use the resource principal. This cell demonstrates how to make a basic connection using the default settings:"
   ]
  },
  {
   "cell_type": "code",
   "execution_count": null,
   "metadata": {},
   "outputs": [],
   "source": [
    "resource_principal = get_resource_principals_signer() \n",
    "dsc = DataScienceClient(config={}, signer=resource_principal)"
   ]
  },
  {
   "cell_type": "markdown",
   "metadata": {},
   "source": [
    "<a id='resource_principals_cli'></a>\n",
    "### Resource Principals Authentication using the OCI CLI\n",
    "\n",
    "Within a notebook session, the OCI CLI can be used to configure the resource principal using the `--auth=resource_principal` option. For example:"
   ]
  },
  {
   "cell_type": "code",
   "execution_count": null,
   "metadata": {},
   "outputs": [],
   "source": [
    "cmd = \"oci data-science project get --project-id=$PROJECT_OCID --auth=resource_principal 2>&1\"\n",
    "print(popen(cmd).read())"
   ]
  },
  {
   "cell_type": "markdown",
   "metadata": {},
   "source": [
    "If the resource principal is correctly configured, messages similar to the following are displayed:\n",
    "\n",
    "```\n",
    "{\n",
    "\"data\": {\n",
    "\"compartment-id\": \"ocid1.compartment.oc1..aaaaaaaafl3avkal72rrwuy4m5rumpwh7r4axejjwq5hvwjy4h4uoyi7kzyq\",\n",
    "\"created-by\": \"ocid1.user.oc1..aaaaaaaabfrlcbiyvjmjvgh3ns6trdyoewxytqywwta3yqmy3ah3fa3uw76q\",\n",
    "\"defined-tags\": {},\n",
    "\"description\": \"my favorite demo project\\n\",\n",
    "\"display-name\": \"demo-project\",\n",
    "\"freeform-tags\": {},\n",
    "\"id\": \"ocid1.datascienceproject.oc1.iad.aaaaaaaappvg4tp5kmbkurcyeghxaqmaknw3s5yh2oxcvfrvjeaadinsng6q\",\n",
    "\"lifecycle-state\": \"ACTIVE\",\n",
    "\"time-created\": \"2019-11-14T22:29:06.870000+00:00\"\n",
    "},\n",
    "\"etag\": \"b4d66fb733748f3454206d5de6b9acb3634edc804b2ad1997bd69dc676035a89\"\n",
    "}\n",
    "```\n",
    "\n",
    "<a id='api_keys'></a>\n",
    "## Authentication with API Keys\n",
    "\n",
    "If resource principals are not explicitly used, API Keys are used by default. For some use cases, you may want to set up API keys, see the instructions in the `api_keys.ipynb` example notebook.\n",
    "\n",
    "\n",
    "<a id='conda'></a>\n",
    "# Neurophysiology Conda Environment\n",
    "\n",
    "<a id='conda_overview'></a>\n",
    "## Overview\n",
    "\n",
    "This **[Neurophysiology](https://docs.cloud.oracle.com/en-us/iaas/data-science/using/use-notebook-sessions.htm#conda_understand_environments)** conda environment contains packages for analyzing, visualizing and exploring neurophysiological data. Included within this conda environment are `MNE` and `Gumpy` to create brain-computer interfaces (BCI) or visualize near-infrared spectroscopy (NIRS) data to assess tissue oxygenation. The tools also allow for the analysis of many different neurophysiological signals such as electrocorticograms (ECoG), electroencephalograms (EEG), stereoelectroencephalograms (sEEG), magnetoencephalograms (MEG), and much more. This environment also includes the lite distribution of `ADS` library, which offers a variety of useful data access, profiling, and transformation features. \n",
    "\n",
    "You can access notebook examples for this conda environment in JupyterLab from the **Launcher** tab by clicking **Notebook Examples**. Then you can select one of the notebook examples that are available for all of the conda environments intsalled in your notebook session.\n",
    "\n",
    "<a id='conda_libraries'></a>\n",
    "## Principal Conda Libraries\n",
    "\n",
    "1. `Oracle-ads`:\n",
    "    Oracle-ads offers a friendly user interface, with objects and methods that cover all the steps involved in the lifecycle of machine learning models, from data acquisition to model evaluation and interpretation.\n",
    "    \n",
    "2. `MNE`:\n",
    "    Provides the best-in-class tooling for analyzing, visualizing and exploring neurophysiological data. MNE empowers you to visualize near-infrared spectroscopy (NIRS) data to assess tissue oxygenation. The tool also allows for the analysis of many different neurophysiological signals such as electrocorticograms (ECoG), electroencephalograms (EEG), stereoelectroencephalograms (sEEG), magnetoencephalograms (MEG), and much more. \n",
    "\n",
    "    A great place to get started is to look at the [examples gallery](https://mne.tools/stable/auto_examples/index.html) to see what MNE has to offer. The MNE [tutorials](https://mne.tools/stable/auto_tutorials/index.html) cover many of the common tasks that this conda environment was designed for.\n",
    "    \n",
    "3. `Gumpy`:\n",
    "    Gumpy implements tooling used in the collection and analysis of electroencephalogram (EEG) and electromyogram (EMG) data. It empowers researchers to quickly perform data analysis and implement novel classifiers. The combination of EEG and EMG makes it especially powerful for the development of hybrid brain-computer interfaces (BCI). It is also designed for extensibility so that you can customize it for your specific needs.\n",
    "\n",
    "    Gumpy comes with the following modules:\n",
    "\n",
    "    * Dataset: Read Graz 2b, the recorded EEG and EMG dataset, and create new datasets by subclassing gumpy.dataset.Dataset.\n",
    "    * Signal processing: Process EEG and EMG signals by filtering, normalizing, and much more.\n",
    "    * Plotting: Create data visualizations that are specific to EEG and EMG data, such as discrete wavelet approximations, PCA and more.\n",
    "    * Feature extraction: Extract features from EMG and EEG signals.\n",
    "    * Classification:  Machine learning classifiers such as SVM, LDA, KNN, LDA with shrinkage, MLP, Random Forest, Logistic regression Quadratic LDA\n",
    "   \n",
    "   Check out the [examples](http://www.gumpy.org/#org75f77e2).\n",
    "\n",
    "<a id='conda_configuration'></a>\n",
    "## Configuration\n",
    "\n",
    "No additional configuration is needed to use this conda environment."
   ]
  },
  {
   "cell_type": "markdown",
   "metadata": {},
   "source": [
    "# References\n",
    "\n",
    "* [Understanding and Using Conda Environments](https://docs.cloud.oracle.com/en-us/iaas/data-science/using/use-notebook-sessions.htm#conda_understand_environments)\n",
    "* [ADS Configuration documentation](https://docs.cloud.oracle.com/en-us/iaas/tools/ads-sdk/latest/user_guide/configuration/configuration.html#)\n",
    "* [Authenticating to the Oracle Cloud Infrastructure APIs from a Notebook Session](https://docs.cloud.oracle.com/en-us/iaas/data-science/using/use-notebook-sessions.htm#topic_kxj_znw_pkb)\n",
    "* [Manually Configuring Your Tenancy for Data Science](https://docs.cloud.oracle.com/en-us/iaas/data-science/using/configure-tenancy.htm)\n",
    "* [Data Science documentation](https://docs.cloud.oracle.com/en-us/iaas/data-science/using/data-science.htm)\n",
    "* [Data Science & AI Blog](https://blogs.oracle.com/datascience/)"
   ]
  }
 ],
 "metadata": {
  "kernelspec": {
   "display_name": "Python [conda env:neurophysiologyv1_0]",
   "language": "python",
   "name": "conda-env-neurophysiologyv1_0-py"
  },
  "language_info": {
   "codemirror_mode": {
    "name": "ipython",
    "version": 3
   },
   "file_extension": ".py",
   "mimetype": "text/x-python",
   "name": "python",
   "nbconvert_exporter": "python",
   "pygments_lexer": "ipython3",
   "version": "3.7.11"
  }
 },
 "nbformat": 4,
 "nbformat_minor": 4
}
