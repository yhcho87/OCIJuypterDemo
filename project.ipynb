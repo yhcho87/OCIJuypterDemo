{
 "cells": [
  {
   "cell_type": "markdown",
   "metadata": {},
   "source": [
    "<font color=gray>ADS Sample Notebook.\n",
    "\n",
    "Copyright (c) 2020, 2021 Oracle, Inc.  All rights reserved.\n",
    "Licensed under the Universal Permissive License v 1.0 as shown at https://oss.oracle.com/licenses/upl.\n",
    "</font>\n",
    "\n",
    "***\n",
    "# <font color=red>Introduction to Projects</font>\n",
    "<p style=\"margin-left:10%; margin-right:10%;\">by the <font color=teal> Oracle Cloud Infrastructure Data Science Service Team </font></p>\n",
    "\n",
    "***\n",
    "\n",
    "## Overview:\n",
    "\n",
    "This notebook reviews the concepts around notebooks and how to manipulate them use the `oci` and `ads` libraries.\n",
    "\n",
    "---\n",
    "\n",
    "## Prerequisites:\n",
    " - Experience with the topic: Novice\n",
    " - Professional experience: None\n",
    " \n",
    "---\n",
    "\n",
    "## Objectives:\n",
    "This notebook covers the following topics:\n",
    "- <a href=\"#introduction\">Introduction to Projects</a>\n",
    "- <a href=\"#manage_ads\">Managing Projects with the Accelerated Data Science (ADS) SDK</a>\n",
    "    - <a href=\"#create_project_ads\">Creating a Project</a>\n",
    "    - <a href=\"#list_project_ads\">Listing Projects</a>\n",
    "    - <a href=\"#update_project_ads\">Updating a Project</a>\n",
    "        - <a href=\"#update_project_ads_project\">Updating Using the Project Class</a>\n",
    "        - <a href=\"#update_project_ads_projectcatalog\">Updating Using the ProjectCatalog Class</a>\n",
    "    - <a href=\"#delete_project_ads\">Deleting a Project</a>\n",
    "- <a href=\"#manage_oci\">Managing Projects with the Oracle Cloud Infrastructure Data Science SDK</a>\n",
    "    - <a href=\"#create_project_oci\">Creating a Project</a>\n",
    "    - <a href=\"#list_project_oci\">Listing Projects</a>\n",
    "    - <a href=\"#update_project_oci\">Updating a Project</a>\n",
    "    - <a href=\"#delete_project_oci\">Deleting a Project</a>\n",
    "- <a href=\"#ref\">References</a>\n",
    "***"
   ]
  },
  {
   "cell_type": "markdown",
   "metadata": {},
   "source": [
    "<a id=\"introduction\"></a>\n",
    "# 1. Introduction to Projects\n",
    "\n",
    "Projects are collaborative workspaces for organizing and documenting Data Science assets such as notebook sessions and models. Fundamentally, a project is a container to store these Data Science assets and the notebook sessions that are used for interactive coding. Each notebook must belong to one and only one project, but a project can have many notebooks. With the use of Identity and Access Management (IAM), restrictions on who can view, modify and delete notebooks. This allows for easy, safe and secure sharing of Data Science work products. Projects can also be used as an effective method for tracking expenses with the use of *CostCenter* tags.\n",
    "\n",
    "There are two libraries for interacting with the project API and Python. They are the `data_science` module of the `oci` library and the Accelerated Data Science (ADS) library `ads.catalog.project`. The `data_science` module is more flexible but requires a deeper knowledge of the API system. The `ads.catalog.project` library has been developed for use by data scientists as it simplifies many of the operations that they would want to perform. Both libraries can be used together.\n",
    "\n",
    "<a id=\"manage_ads\"></a>\n",
    "# 2. Managing Projects with the Accelerated Data Science (ADS) SDK\n",
    "\n",
    "There primary class that is used to work with a project is `ProjectCatalog`. The `ProjectCatalog` takes an optional parameter `compartment_id` that defines the compartment where the project will be created. By default, it will use the compartment that the notebook belongs to.\n",
    "\n",
    "Operations generally return a `Project` or `ProjectSummaryList` object. The `Project` object is a representation of the project in Python. Operations on this object are not stored until the `commit()` method is called. The `rollback()` method can be used to revert pending changes.\n",
    "\n",
    "<a id=\"project_attribute\"></a>\n",
    "The `Project` class has the following attributes. Some of these attributes cannot be committed.\n",
    "\n",
    "* attribute_map: Map between `ads` and `oci` field names\n",
    "* compartment_id: OCID of the compartment that the project belongs to\n",
    "* created_by: OCID of the account that created the project\n",
    "* defined_tags: Predefined tags\n",
    "* description: Description of the project\n",
    "* display_name: Display name of the project\n",
    "* freeform_tags: User-defined tags for the project\n",
    "* id: OCID of the project\n",
    "* lifecycle_state: Lifecycle state of the project, such as 'ACTIVE'\n",
    "* time_created: Timestamp of when the project was created\n",
    "* user_email: Email address of the account that created the project\n",
    "* user_name: User name of the account that created the project\n",
    "\n",
    "<a id=\"create_project_ads\"></a>\n",
    "## Creating a Project\n",
    "\n",
    "To create a project, an instance of `ProjectCatalog` is used with the `create_project()` method. For interoperability with the `oci` library, an `oci.data_science.models.CreateProjectDetails` object can be passed to the `create_project_details` parameter. Or the following optional parameters can be used:\n",
    "\n",
    "* compartment_id: OCID of the compartment that the project belongs to. Defaults to notebook compartment.\n",
    "* defined_tags: Oracle defined tags.\n",
    "* description: Description of the project.\n",
    "* display_name: Display name of the project.\n",
    "* freeform_tags: User-defined tags for the project.\n",
    "\n",
    "The `create_project()` method will return a `Project` object. In the following example, a project will be created using some of the optional parameters. See the section on using the `oci` libraries on how to create a `CreateProjectDetails` object if that is the preferred method.\n",
    "\n",
    "The optional parameter `ds_client_auth` can be used to specify the preferred authentication method to access OCI Data Science client."
   ]
  },
  {
   "cell_type": "code",
   "execution_count": null,
   "metadata": {},
   "outputs": [],
   "source": [
    "from ads.catalog.project import ProjectSummaryList, ProjectCatalog\n",
    "from ads.common import auth as authutil\n",
    "project = ProjectCatalog(ds_client_auth=authutil.api_keys()).create_project(\n",
    "    display_name=\"test_project\",\n",
    "    description=\"This is a test project\")"
   ]
  },
  {
   "cell_type": "markdown",
   "metadata": {},
   "source": [
    "Information about the `Project` object can be accessed through a couple of different approaches. The following section details these approaches.\n",
    "\n",
    "Specific fields can be accessed as attributes."
   ]
  },
  {
   "cell_type": "code",
   "execution_count": null,
   "metadata": {},
   "outputs": [],
   "source": [
    "print(\"Display name: {}\".format(project.display_name))\n",
    "print(\"OCID of the creating account: {}\".format(project.created_by))\n",
    "print(\"Timestamp of when project was created: {}\".format(project.time_created))"
   ]
  },
  {
   "cell_type": "markdown",
   "metadata": {},
   "source": [
    "The `show_in_notebook()` method creates a formated table that displays information about the project"
   ]
  },
  {
   "cell_type": "code",
   "execution_count": null,
   "metadata": {},
   "outputs": [],
   "source": [
    "project.show_in_notebook()"
   ]
  },
  {
   "cell_type": "markdown",
   "metadata": {},
   "source": [
    "The `to_dataframe()` method will return details about the project in a Pandas dataframe. "
   ]
  },
  {
   "cell_type": "code",
   "execution_count": null,
   "metadata": {},
   "outputs": [],
   "source": [
    "type(project.to_dataframe())"
   ]
  },
  {
   "cell_type": "markdown",
   "metadata": {},
   "source": [
    "<a id=\"list_project_ads\"></a>\n",
    "## Listing Projects\n",
    "\n",
    "The `list_projects()` method of the `ProjectCatalog` object returns a `ProjectSummaryList` object that contains details of the various projects in a compartment. Each element in the `ProjectSummaryList` is a `ProjectSummary` object. \n",
    "\n",
    "The `ProjectSummary` class has the same attributes as the <a href=\"#project_attribute\">`Project` class</a> and can be used to access details of a project. It also has the `show_in_notebook()` method which prints a table with the project information. The `to_dataframe()` method can also be used to convert the information to a Pandas dataframe.\n",
    "\n",
    "The following section details how to list projects in this notebook's compartment. To list notebooks in other compartments use the `compartment_id` in the `ProjectCatalog` constructor with the OCID of the compartment to list."
   ]
  },
  {
   "cell_type": "code",
   "execution_count": null,
   "metadata": {},
   "outputs": [],
   "source": [
    "project_list = ProjectCatalog().list_projects()\n",
    "project_list"
   ]
  },
  {
   "cell_type": "markdown",
   "metadata": {},
   "source": [
    "The `sort()` method of the `ProjectSummaryList` class allows the data to be sorted. It takes a list object that contains the column names to sort by. It has an optional parameter, `reverse`, which will sort the data in descending if set to `True`. By default, the data will be sorted in ascending order.\n",
    "\n",
    "The following example sorts the projects by `lifecycle_state` and then `time_created` in descending order."
   ]
  },
  {
   "cell_type": "code",
   "execution_count": null,
   "metadata": {},
   "outputs": [],
   "source": [
    "project_list.sort_by([\"lifecycle_state\", \"time_created\"], reverse=True)"
   ]
  },
  {
   "cell_type": "markdown",
   "metadata": {},
   "source": [
    "The `ProjectSummaryList` object can be converted to a Pandas dataframe with the `to_dataframe()` method."
   ]
  },
  {
   "cell_type": "code",
   "execution_count": null,
   "metadata": {},
   "outputs": [],
   "source": [
    "type(project_list.to_dataframe())"
   ]
  },
  {
   "cell_type": "markdown",
   "metadata": {},
   "source": [
    "`ProjectSummaryList` objects can be accessed by indexing its elements. The object returned is of type `ProjectSummary`. In the following example, the `show_in_notebook()` method will print a table with the first project's metadata."
   ]
  },
  {
   "cell_type": "code",
   "execution_count": null,
   "metadata": {},
   "outputs": [],
   "source": [
    "project_list[0].show_in_notebook()"
   ]
  },
  {
   "cell_type": "markdown",
   "metadata": {},
   "source": [
    "The `ProjectSummary` class has the same attributes as the <a href=\"#project_attribute\">`Project` class</a> and can be used to access details of a project. The following code snippet prints the `description` of the first project."
   ]
  },
  {
   "cell_type": "code",
   "execution_count": null,
   "metadata": {},
   "outputs": [],
   "source": [
    "project_list[0].description"
   ]
  },
  {
   "cell_type": "markdown",
   "metadata": {},
   "source": [
    "`ProjectSummaryList` objects support list comprehension. In the following example, the time a project was created (`time_created`), will be put into a list object. In addition, a filter will be applied to only select those projects that were created at the same time or before the project created in this notebook."
   ]
  },
  {
   "cell_type": "code",
   "execution_count": null,
   "metadata": {},
   "outputs": [],
   "source": [
    "print(\"The current project was created on: {}\".format(str(project.time_created)))\n",
    "[str(x.time_created) for x in project_list if x.time_created <= project.time_created]"
   ]
  },
  {
   "cell_type": "markdown",
   "metadata": {},
   "source": [
    "`ProjectSummary` objects can be converted to Pandas data frames using the `to_dataframe()` method."
   ]
  },
  {
   "cell_type": "code",
   "execution_count": null,
   "metadata": {},
   "outputs": [],
   "source": [
    "project_list[0].to_dataframe()"
   ]
  },
  {
   "cell_type": "markdown",
   "metadata": {},
   "source": [
    "The `filter()` method in the `ProjectSummaryList` class accepts a lambda function or a list comprehension which is used to filter the data. It will filter the `ProjectSummaryList` and return another `ProjectSummaryList`. In the case of a list comprehension, the list comprehension must return `ProjectSummary` objects.\n",
    "\n",
    "The following example filters the project list for the project who's OCID matches the OCID of the project created in this notebook. The first example uses a lambda function and the second uses list comprehension."
   ]
  },
  {
   "cell_type": "code",
   "execution_count": null,
   "metadata": {},
   "outputs": [],
   "source": [
    "project_list.filter(lambda x: x.id == project.id)"
   ]
  },
  {
   "cell_type": "code",
   "execution_count": null,
   "metadata": {},
   "outputs": [],
   "source": [
    "project_list.filter([x for x in project_list if x.id == project.id])"
   ]
  },
  {
   "cell_type": "markdown",
   "metadata": {},
   "source": [
    "<a id=\"update_project_ads\"></a>\n",
    "## Updating a Project\n",
    "\n",
    "There are two methods for programmatically updating projects within the ADS framework. The `ProjectCatalog` class has an `update_project()` method that requires a project's OCID to make changes. Alternatively, a `Project` object can be used to update the project that it represents.\n",
    "\n",
    "<a id=\"update_project_ads_project\"></a>\n",
    "### Updating Using the Project Class\n",
    "\n",
    "`Project` objects are an in-memory representation of a project that is stored in a compartment. Changes made to the `Project` object are only updated in memory. To store these changes back to the Oracle Cloud Infrastructure the `commit()` method must be called. This is analogous to editing a document and then saving the document back to the storage device.\n",
    "\n",
    "Changes to a `Project` object can be reverted back to what is in the Oracle Cloud Infrastructure by using the `rollback()` method. This is analogous to reloading a text document in an editor, without saving the changes.\n",
    "\n",
    "The following example updates the `project` object to have a new description. After doing that, it retrieves the stored project's description. These are the same projects but the descriptions are different. This is because the changes have not been committed."
   ]
  },
  {
   "cell_type": "code",
   "execution_count": null,
   "metadata": {},
   "outputs": [],
   "source": [
    "project.description = \"a new description\"\n",
    "project_list = ProjectCatalog().list_projects()\n",
    "project_stored = project_list.filter([x for x in project_list if x.id == project.id])[0]\n",
    "\n",
    "print(\"Project object's description: {}\".format(project.description))\n",
    "print(\"Stored project's description: {}\".format(project_stored.description))\n",
    "print(\"Are the project OCIDs the same: {}\".format(project.id == project_stored.id))"
   ]
  },
  {
   "cell_type": "markdown",
   "metadata": {},
   "source": [
    "The `rollback()` method can be used to revert the *project* object back to what is stored in the compartment."
   ]
  },
  {
   "cell_type": "code",
   "execution_count": null,
   "metadata": {},
   "outputs": [],
   "source": [
    "project.rollback()\n",
    "print(\"Project object's description: {}\".format(project.description))\n",
    "print(\"Stored project's description: {}\".format(project_stored.description))\n",
    "print(\"Are the project OCIDs the same: {}\".format(project.id == project_stored.id))"
   ]
  },
  {
   "cell_type": "markdown",
   "metadata": {},
   "source": [
    "Attributes that are changed in a `Project` object are stored into the compartment with the use of the `commit()` method.\n",
    "\n",
    "The following example updates the description of a project and commits that change."
   ]
  },
  {
   "cell_type": "code",
   "execution_count": null,
   "metadata": {},
   "outputs": [],
   "source": [
    "project.description = \"A new description\"\n",
    "project = project.commit()"
   ]
  },
  {
   "cell_type": "markdown",
   "metadata": {},
   "source": [
    "<a id=\"update_project_ads_projectcatalog\"></a>\n",
    "\n",
    "### Updating Using the ProjectCatalog Class\n",
    "\n",
    "The `ProjectCatalog` object has a method, `update_project()`, that allows a project to be updated in the compartment without having to obtain a `Project` object, making changes to the object, and committing the changes. The `update_project()` method requires that the `project_id` parameter be set to the OCID of the project that is to be updated.\n",
    "\n",
    "For interoperability with the `oci` library, an `oci.data_science.models.UpdateProjectDetail` object can be passed to the `update_project_details` parameter. Or the following optional parameters can be used:\n",
    "\n",
    "* compartment_id: OCID of the compartment that the project belongs to. Defaults to notebook compartment.\n",
    "* defined_tags: Oracle defined tags.\n",
    "* description: Description of the project.\n",
    "* display_name: Display name of the project.\n",
    "* freeform_tags: User-defined tags for the project\n",
    "\n",
    "The following example updates the project created in this notebook."
   ]
  },
  {
   "cell_type": "code",
   "execution_count": null,
   "metadata": {},
   "outputs": [],
   "source": [
    "ProjectCatalog().update_project(project_id=project.id, description=\"Description updated with update_project\")\n",
    "project_list = ProjectCatalog().list_projects()\n",
    "print(\"Updated description: {}\".format(\n",
    "    project_list.filter([x for x in project_list if x.id == project.id])[0].description))"
   ]
  },
  {
   "cell_type": "markdown",
   "metadata": {},
   "source": [
    "<a id=\"delete_project_ads\"></a>\n",
    "## Deleting a Project\n",
    "\n",
    "The `ProjectCatalog` class has a `delete_project()` method that deletes a project. The delete operation will fail unless all associated resources (such as notebook sessions or models) are in a DELETED state. All associated resources must be deleted before deleting a project. The `project` parameter requires a project's OCID or a `Project` object.\n",
    "\n",
    "The `delete_project()` method will return a boolean value indicating if the project was deleted or not. Repeated calls or deleting a project that is already deleted will return a `True` value.\n",
    "\n",
    "The following example deletes the project that was created in this notebook."
   ]
  },
  {
   "cell_type": "code",
   "execution_count": null,
   "metadata": {},
   "outputs": [],
   "source": [
    "ProjectCatalog().delete_project(project=project)"
   ]
  },
  {
   "cell_type": "markdown",
   "metadata": {},
   "source": [
    "<a id=\"manage_oci\"></a>\n",
    "\n",
    "# Managing Projects with the Oracle Cloud Infrastructure Data Science SDK\n",
    "\n",
    "Oracle Cloud Infrastructure Data Science enables you to authenticate using your notebook session's resource principal to access other Oracle Cloud Infrastructure resources. Resource principals provide a more secure and easy-to-use method of authenticating to Oracle Cloud Infrastructure resources.\n",
    "\n",
    "The main class for interacting with the Data Science service is `DataScienceClient`. This class requires a dictionary object that has the keys needed to make API calls. However, with resources principals, you only need to pass an empty dictionary and the resources principals to the `signer`."
   ]
  },
  {
   "cell_type": "code",
   "execution_count": null,
   "metadata": {},
   "outputs": [],
   "source": [
    "import oci\n",
    "import os\n",
    "\n",
    "from ads import set_auth\n",
    "from oci.data_science.models import CreateProjectDetails\n",
    "from oci.data_science.models import UpdateProjectDetails\n",
    "from oci.data_science import DataScienceClient\n",
    "from os import path\n",
    "\n",
    "set_auth(auth='resource_principal') \n",
    "rps = oci.auth.signers.get_resource_principals_signer()"
   ]
  },
  {
   "cell_type": "markdown",
   "metadata": {},
   "source": [
    "<a id=\"create_project_oci\"></a>\n",
    "## Creating a Project\n",
    "\n",
    "To create a project, an instance of `DataScienceClient` is used with the `create_project()` method. The `CreateProjectDetails` is used to provide details about the project. The `ads` library optionally accepts this object, but it is required in the `oci` library. \n",
    "\n",
    "The `CreateProjectDetails` has the following parameters:\n",
    "\n",
    "* compartment_id: OCID of the compartment that the project belongs to. Defaults to notebook compartment.\n",
    "* defined_tags: Oracle defined tags.\n",
    "* description: Description of the project.\n",
    "* display_name: Display name of the project.\n",
    "* freeform_tags: User-defined tags for the project.\n",
    "\n",
    "The `create_project()` method returns a `Response` object. If the project was created successfully, the `Project` object is contained in the `data` attribute. In the following example, a `CreateProjectDetials` object is created. It defined the `compartment_id` as the compartment of this notebook session. The `create_project()` method is used to create the project. The `status` attribute of the `Response` object is checked. If the project was created, the variable `project` is created containing the `Project` object."
   ]
  },
  {
   "cell_type": "code",
   "execution_count": null,
   "metadata": {},
   "outputs": [],
   "source": [
    "project_details = CreateProjectDetails(\n",
    "    compartment_id=os.environ[\"NB_SESSION_COMPARTMENT_OCID\"],\n",
    "    display_name=\"test_project\",\n",
    "    description=\"This is a test project\")\n",
    "response = DataScienceClient({}, signer=rps).create_project(create_project_details=project_details)\n",
    "if response.status == 200:\n",
    "    project = response.data\n",
    "    print(\"Project OCID: {}\".format(project.id))\n",
    "else:\n",
    "    print(\"The project was not created!\")"
   ]
  },
  {
   "cell_type": "markdown",
   "metadata": {},
   "source": [
    "<a id=\"list_project_oci\"></a>\n",
    "## Listing Projects\n",
    "\n",
    "The `list_projects()` method of the `DataScienceClient` object returns a `Response` object. The API is able to return a list of projects, it has a python list object in the `data` attribute. This list contains details of the various projects in a compartment. Each element in the list is a `ProjectSummary` object.\n",
    "\n",
    "The `ProjectSummary` class has the same attributes as the <a href=\"#project_attribute\">`Project` class</a> and can be used to access details of a project.\n",
    "\n",
    "The `list_projects()` method provides a flexible interface to sort, filter, and paginate the results. The following is a list of the parameters that can be used:\n",
    "\n",
    "* compartment_id: (required) Filter results by the OCID of the compartment.\n",
    "* id: Filter results by OCID. \n",
    "* display_name: Filter results by its user-friendly name.\n",
    "* lifecycle_state: Filter results by the specified lifecycle state. Allowed values are: \"ACTIVE\", \"DELETING\", \"DELETED\"\n",
    "* created_by: Filter results by the OCID of the user who created the resource.\n",
    "* limit: For list pagination. The maximum number of results per page or items to return in a paginated \"List\" call. 1 is the minimum, 1000 is the maximum.\n",
    "* page: For list pagination. The value of the opc-next-page response header from the previous \"List\" call.\n",
    "* sort_order: Specifies the sort order to use, either ASC (ascending) or DESC (descending).\n",
    "* sort_by: Specifies the field to sort by. Accepts only one field. By default, when you sort by timeCreated, results are shown in descending order. When you sort by displayName, results are shown in ascending order. Sort order for displayName field is case sensitive. Allowed values are: \"timeCreated\", \"displayName\".\n",
    "* opc_request_id: Unique Oracle assigned identifier for the request.\n",
    "* retry_strategy: A retry strategy to apply to this specific operation and call. It overrides any retry strategy set at the client-level. This should be one of the strategies available in the retry module. A convenience DEFAULT_RETRY_STRATEGY is also available. To have this operation explicitly not perform any retries, pass an instance of NoneRetryStrategy.\n",
    "\n",
    "In the following example, a list of deleted projects is obtained. The list is sorted by the display name in descending order. Upon a successful API call, the project's display names are printed in the order in which they are returned."
   ]
  },
  {
   "cell_type": "code",
   "execution_count": null,
   "metadata": {},
   "outputs": [],
   "source": [
    "response = DataScienceClient({}, signer=rps).list_projects(\n",
    "    compartment_id=os.environ[\"NB_SESSION_COMPARTMENT_OCID\"],\n",
    "    lifecycle_state=\"DELETED\",\n",
    "    sort_order=\"DESC\",\n",
    "    sort_by=\"displayName\")\n",
    "if response.status == 200:\n",
    "    project_list = response.data\n",
    "    for item in project_list:\n",
    "        print(item.display_name)\n",
    "else:\n",
    "    print(\"Unable to list the projects!\")"
   ]
  },
  {
   "cell_type": "markdown",
   "metadata": {},
   "source": [
    "<a id=\"update_project_oci\"></a>\n",
    "## Updating a Project\n",
    "\n",
    "The `update_project()` method requires a project's OCID and an `UpdateProjectDetails` object. The `UpdateProjectDetails` allows the display name, description, freeform tags, and defined tags to be updated. Only the fields that are going to be changed need to be specified. The `update_project()` method returns a `Response` object. If the update is successful, the `data` attribute contains a `Project` object with information about the updated project.\n",
    "\n",
    "The following example updates the project that was created in this section by giving it a new description."
   ]
  },
  {
   "cell_type": "code",
   "execution_count": null,
   "metadata": {},
   "outputs": [],
   "source": [
    "project_details = UpdateProjectDetails(description=\"a new description\")\n",
    "response = DataScienceClient({}, signer=rps).update_project(project_id=project.id, update_project_details=project_details)\n",
    "if response.status == 200:\n",
    "    print(\"The project was updated.\")\n",
    "else:\n",
    "    print(\"The project was not updated!\")"
   ]
  },
  {
   "cell_type": "markdown",
   "metadata": {},
   "source": [
    "<a id=\"delete_project_oci\"></a>\n",
    "## Deleting a Project\n",
    "\n",
    "The `delete_project()` method requires a project's OCID to delete the project. It returns a `Response` object. If the update is successful, the `data` attribute contains a `Project` object with information about the updated project.\n",
    "\n",
    "The `Response` object returns a 202 Accepted HTTP code if the API accepts the responsibility to delete the project. Repeated calls to delete the same project will generally result in an HTTP status code of 204 No Content. The value of the `data` attribute is always `None`.\n",
    "\n",
    "The following example deletes the project that was created in this notebook."
   ]
  },
  {
   "cell_type": "code",
   "execution_count": null,
   "metadata": {},
   "outputs": [],
   "source": [
    "response = DataScienceClient({}, signer=rps).delete_project(project_id=project.id)\n",
    "if response.status == 202:\n",
    "    print(\"The project is pending deletion.\")\n",
    "else:\n",
    "    print(\"The project was not deleted!\")"
   ]
  },
  {
   "cell_type": "markdown",
   "metadata": {},
   "source": [
    "<a id=\"ref\"></a>\n",
    "# References\n",
    "\n",
    "* [ADS SDK - Project](https://docs.cloud.oracle.com/en-us/iaas/tools/ads-sdk/latest/ads.catalog.html#module-ads.catalog.project)\n",
    "* [OCI Data Science SDK](https://oracle-cloud-infrastructure-python-sdk.readthedocs.io/en/latest/api/data_science.html)"
   ]
  },
  {
   "cell_type": "code",
   "execution_count": null,
   "metadata": {},
   "outputs": [],
   "source": []
  }
 ],
 "metadata": {
  "kernelspec": {
   "display_name": "Python [conda env:neurophysiologyv1_0]",
   "language": "python",
   "name": "conda-env-neurophysiologyv1_0-py"
  },
  "language_info": {
   "codemirror_mode": {
    "name": "ipython",
    "version": 3
   },
   "file_extension": ".py",
   "mimetype": "text/x-python",
   "name": "python",
   "nbconvert_exporter": "python",
   "pygments_lexer": "ipython3",
   "version": "3.7.10"
  }
 },
 "nbformat": 4,
 "nbformat_minor": 4
}
