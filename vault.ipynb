{
 "cells": [
  {
   "cell_type": "markdown",
   "metadata": {},
   "source": [
    "<font color=gray>ADS Sample Notebook.\n",
    "\n",
    "Copyright (c) 2020 Oracle, Inc. All rights reserved.\n",
    "Licensed under the Universal Permissive License v 1.0 as shown at https://oss.oracle.com/licenses/upl.\n",
    "</font>\n",
    "\n",
    "## Overview:\n",
    "\n",
    "The Oracle Cloud Infrastructure Vault is a service that provides management of encryption keys and secret credentials. A vault is a storage container that holds keys and secrets. The Vault service not only secures your secrets it provides a central repository that allows them to be used in different notebooks and shared with only those that need access. No longer will your secrets be stored in code that can accidentally be checked into git repositories.\n",
    "\n",
    "This notebook demonstrates how to create a vault, a key, and store a secret that is encrypted with that key. It also demonstrates how to retrieve the secret so that it can be used in a notebook. The notebook explains how to update that secret and basic operations, such as listing deleting vaults, keys, and secrets.\n",
    "\n",
    "**Important:**\n",
    "\n",
    "Placeholder text for required values are surrounded by angle brackets that must be removed when adding the indicated content. For example, when adding a database name to `database_name = \"<database_name>\"` would become `database_name = \"production\"`.\n",
    "\n",
    "---\n",
    "\n",
    "## Prerequisites:\n",
    " - Experience with the topic: Novice\n",
    " - Professional experience: None\n",
    " \n",
    "#### <font color=red>Before using this notebook, your tenancy must be configured to use the Vault service.</font>\n",
    "\n",
    "This notebook performs CRUD (create, read, update, delete) operations on vaults, keys, and secrets. These are all part of the Vault Service. The account that is using this notebook requires permissions to these resources. The account administrator needs to grant privileges to perform these actions. How the permissions are configured can depend on your tenancy configuration, see the [Vault Service's permissions documentation](https://docs.cloud.oracle.com/en-us/iaas/Content/Identity/Reference/keypolicyreference.htm) for details. The [Vault Service's common policies](https://docs.cloud.oracle.com/en-us/iaas/Content/Identity/Concepts/commonpolicies.htm#sec-admins-manage-vaults-keys) are:\n",
    "\n",
    "```\n",
    "allow group <group> to manage vaults in compartment <compartment>\n",
    "allow group <group> to manage keys in compartment <compartment>\n",
    "allow group <group> to manage secret-family in compartment <compartment>\n",
    "```\n",
    " \n",
    "---\n",
    "\n",
    "## Objectives:\n",
    "\n",
    " - <a href='#intro'>Introduction to the Vault Service</a>\n",
    "     - <a href='#concepts'>Key and Secret Management Concepts</a>\n",
    "     - <a href='#vaults'>Vaults</a>\n",
    "     - <a href='#keys'>Keys</a>\n",
    "     - <a href='#key_version'>Key Version</a>\n",
    "     - <a href='#hsm'>Hardware Security Modules</a>\n",
    "     - <a href='#envelope_encryption'>Envelope Encryption</a>\n",
    "     - <a href='#secret'>Secrets</a>\n",
    "     - <a href='#secret_version'>Secret Versions</a>\n",
    "     - <a href='#secret_bundles'>Secret Bundles</a>\n",
    " - <a href='#create_vault'>Creating a Vault</a>\n",
    " - <a href='#create_key'>Creating a Key</a>\n",
    " - <a href='#secret'>Secret</a>\n",
    "     - <a href='#store_secret'>Storing a Secret</a>\n",
    "     - <a href='#retrieve_secret'>Retrieving a Secret</a>\n",
    "     - <a href='#update_secret'>Updating a Secret</a>\n",
    " - <a href='#list'>Listing Resources</a>     \n",
    "     - <a href='#list_secret'>List Secrets</a>\n",
    "     - <a href='#list_key'>Listing Keys</a>\n",
    "     - <a href='#list_vault'>Listing Vaults</a>\n",
    " - <a href='#delete'>Deletion</a>\n",
    "     - <a href='#delete_secret'>Deleting a Secret</a>\n",
    "     - <a href='#delete_key'>Deleting a Key</a>\n",
    "     - <a href='#delete_vault'>Deleting a Vault</a>\n",
    " - <a href='#ref'>References</a>\n",
    "     \n",
    " ***"
   ]
  },
  {
   "cell_type": "markdown",
   "metadata": {},
   "source": [
    "<a id='intro'></a>\n",
    "# Introduction to the Vault Service\n",
    "\n",
    "The [Oracle Cloud Infrastructure Vault](https://docs.cloud.oracle.com/en-us/iaas/Content/KeyManagement/Concepts/keyoverview.htm) lets you centrally manage the encryption keys that protect your data and the secret credentials that you use to securely access resources.\n",
    "\n",
    "Vaults securely store master encryption keys and secrets that you might otherwise store in configuration files or in code.\n",
    "\n",
    "Use the Vault service to exercise control over the lifecycle keys and secrets. Integration with Oracle Cloud Infrastructure Identity and Access Management (IAM) lets you control who and what services can access which keys and secrets and what they can do with those resources. The Oracle Cloud Infrastructure Audit integration gives you a way to monitor key and secret use. Audit tracks administrative actions on vaults, keys, and secrets.\n",
    "\n",
    "Keys are stored on highly available and durable hardware security modules (HSM) that meet Federal Information Processing Standards (FIPS) 140-2 Security Level 3 security certification. The Vault service uses the Advanced Encryption Standard (AES) as its encryption algorithm and its keys are AES symmetric keys.\n",
    "\n",
    "<a id='concepts'></a>\n",
    "# Key and Secret Management Concepts\n",
    "\n",
    "The following concepts are integral to understanding the Vault service.\n",
    "\n",
    "<a id='vaults'></a>\n",
    "## Vaults\n",
    "\n",
    "Vaults are logical entities where the Vault service stores keys and secrets. The Vault service offers different vault types. A virtual private vault is an isolated partition on an HSM. Vaults can share partitions on the HSM with other vaults.\n",
    "\n",
    "<a id='keys'></a>\n",
    "## Keys\n",
    "\n",
    "Keys are logical entities that represent one or more key versions that contain the cryptographic material used to encrypt and decrypt data. The Vault service recognizes master encryption keys, wrapping keys, and data encryption keys.\n",
    "\n",
    "Master encryption keys can be generated internally by the Vault service or imported to the service from an external source. Once a master encryption key has been created, the Oracle Cloud Infrastruture API can be used to generate data encryption keys that the Vault service returns to you. by default, a wrapping key is included with each vault. A wrapping key is a 4096-bit asymmetric encryption key pair based on the RSA algorithm.\n",
    "\n",
    "<a id='key_version'></a>\n",
    "## Key Version\n",
    "\n",
    "Each master encryption key is assigned a version number. When a key is rotated, a new key version is created by the Vault service or it can be imported. Periodically rotating keys reduces the risk if a key is ever compromised. A key’s unique OCID remains the same across rotations, but the key version enables the Vault service to seamlessly rotate keys to meet any compliance requirements. Older key versions cannot be used for encryption. However, they remain available to decrypt data.\n",
    "\n",
    "<a id='hsm'></a>\n",
    "## Hardware Security Modules\n",
    "\n",
    "Keys and secrets are stored within an HSM. This provides a layer of physical security. Keys and secrets are only stored on HSM and cannot be exported from the HSM. HSMs meet the FIPS 140-2 Security Level 3 security certification. This means that the HSM hardware is tamper-evident, has physical safeguards for tamper-resistance, requires identity-based authentication, and deletes keys from the device when it detects tampering.\n",
    "\n",
    "<a id='envelope_encryption'></a>\n",
    "## Envelope Encryption\n",
    "\n",
    "The data encryption key used to encrypt your data is, itself, encrypted with a master encryption key. This concept is known as envelope encryption. Oracle Cloud Infrastructure services do not have access to the plain text data without interacting with the Vault service and without access to the master encryption key that is protected by IAM.\n",
    "\n",
    "<a id='secret'></a>\n",
    "## Secrets\n",
    "\n",
    "Secrets are credentials, such as passwords, certificates, SSH keys, or authentication tokens. You can retrieve secrets from the Vault service when you need them to access resources or other services.\n",
    "\n",
    "<a id='secret_version'></a>\n",
    "## Secret Versions\n",
    "\n",
    "Each secret is automatically assigned a version number. When secrets are rotated and updated, the new secret has a new version number. A secret’s unique OCID remains the same across rotations and updates. It is possible to configure a rule that prevents a secret from being reused after rotation and updating. However, the older secret remains available.\n",
    "\n",
    "<a id='secret_bundles'></a>\n",
    "## Secret Bundles\n",
    "\n",
    "A secret bundle consists of the secret contents, properties of the secret, and the secret version (version number or rotation state), and user-provided contextual metadata for the secret."
   ]
  },
  {
   "cell_type": "code",
   "execution_count": null,
   "metadata": {},
   "outputs": [],
   "source": [
    "import base64\n",
    "import json\n",
    "import oci\n",
    "import os\n",
    "import random\n",
    "import string\n",
    "import uuid\n",
    "\n",
    "from oci.config import from_file\n",
    "from oci.key_management import KmsManagementClient\n",
    "from oci.key_management import KmsManagementClientCompositeOperations\n",
    "from oci.key_management import KmsVaultClient\n",
    "from oci.key_management import KmsVaultClientCompositeOperations\n",
    "from oci.key_management.models import CreateVaultDetails\n",
    "from oci.key_management.models import KeyShape\n",
    "from oci.key_management.models import CreateKeyDetails\n",
    "from oci.key_management.models import ScheduleKeyDeletionDetails\n",
    "from oci.key_management.models import ScheduleVaultDeletionDetails\n",
    "from oci.secrets import SecretsClient\n",
    "from oci.vault import VaultsClient\n",
    "from oci.vault.models import Base64SecretContentDetails\n",
    "from oci.vault.models import CreateSecretDetails\n",
    "from oci.vault.models import ScheduleSecretDeletionDetails\n",
    "from oci.vault.models import UpdateSecretDetails\n",
    "from oci.vault import VaultsClientCompositeOperations\n",
    "from os import path"
   ]
  },
  {
   "cell_type": "markdown",
   "metadata": {},
   "source": [
    "Some helper functions are:"
   ]
  },
  {
   "cell_type": "code",
   "execution_count": null,
   "metadata": {},
   "outputs": [],
   "source": [
    "def dict_to_secret(dictionary):\n",
    "    return base64.b64encode(json.dumps(dictionary).encode('ascii')).decode(\"ascii\")\n",
    "\n",
    "def secret_to_dict(wallet):\n",
    "    return json.loads(base64.b64decode(wallet.encode('ascii')).decode('ascii'))"
   ]
  },
  {
   "cell_type": "markdown",
   "metadata": {},
   "source": [
    "# Setup\n",
    "\n",
    "Optionally, you could edit the following code to configure this notebook. You need an Oracle Cloud Infrastructure configuration file. If this has not been set up, see the `getting-started.ipynb` notebook. By default, this notebook uses the `~/.oci/config` configuration file and the `DEFAULT` profile. If you have changed your configuration from the one setup using the `getting-started.ipynb` notebook, then the `config` variable may need to be updated.\n",
    "\n",
    "A vault, keys, and secret need to belong to a compartment. By default, the compartment of this notebook session is used. To set up these resources in a different compartment, enter the compartment's OCID in the `compartment_id` variable.\n",
    "\n",
    "The main use case for a data scientist is to store a secret, such as an SSH key, database password, or some other credential. To do this, a vault and key are required. By default, this notebook creates these resources. However, the `vault_id` and `key_id` variables can be updated with vault and key OCIDs to use existing resources."
   ]
  },
  {
   "cell_type": "code",
   "execution_count": null,
   "metadata": {},
   "outputs": [],
   "source": [
    "# Select the configuration file to connect to Oracle Cloud Infrastructure resources\n",
    "config = from_file(path.join(path.expanduser(\"~\"), \".oci\", \"config\"), \"DEFAULT\")\n",
    "\n",
    "# Select the compartment to create the secrets in. \n",
    "# Use the notebook compartment by default\n",
    "compartment_id = os.environ['NB_SESSION_COMPARTMENT_OCID']\n",
    "\n",
    "# Enter a vault OCID. Otherwise, one is created.\n",
    "vault_id = \"<vault_id>\"\n",
    "# Enter a KMS OCID to encrypt the secret. Otherwise, one is created\n",
    "key_id = \"<key_id>\"\n"
   ]
  },
  {
   "cell_type": "markdown",
   "metadata": {},
   "source": [
    "For the purposes of this notebook, a secret is stored. The secret is the credentials needed to access a database. The notebook is designed so that any secret can be stored as long as it is in the form of a dictionary. To store your secret, just modify the dictionary."
   ]
  },
  {
   "cell_type": "code",
   "execution_count": null,
   "metadata": {},
   "outputs": [],
   "source": [
    "# Sample credentials that are going to be stored.\n",
    "credential = {'database': 'datamart', \n",
    "              'username': 'admin', \n",
    "              'password': 'MySecretPassword'}"
   ]
  },
  {
   "cell_type": "markdown",
   "metadata": {},
   "source": [
    "<a id='create_vault'></a>\n",
    "# Create a Vault\n",
    "\n",
    "To store a secret, a key is needed to encrypt and decrypt the secret. This key and secret are stored in a vault. The code in the following cell creates a vault if you have not specified an OCID in the `vault_id` variable. The `KmsVaultClient` class takes a configuration object and establishes a connection to the key management service (KMS). Communication with `KmsVaultClient` is asynchronous. For the purpose of this notebook, it is better to have synchronous communication so the `KmsVaultClient` are wrapped in a `KmsVaultClientCompositeOperations` object.\n",
    "\n",
    "The details of the vault are specified using an object of the `CreateVaultDetails` type. A compartment ID must be provided along with the properties of the vault. For the purposes of this notebook, the vault's display name is `DataScienceVault_` and a random string because the names of a vault must be unique. This value can be changed to fit your individual needs."
   ]
  },
  {
   "cell_type": "code",
   "execution_count": null,
   "metadata": {},
   "outputs": [],
   "source": [
    "if vault_id == \"<vault_id>\":\n",
    "    # Create a VaultClientCompositeOperations for composite operations.\n",
    "    vault_client = KmsVaultClientCompositeOperations(KmsVaultClient(config))\n",
    "\n",
    "    # Create vault_details object for use in creating the vault.\n",
    "    vault_details = CreateVaultDetails(compartment_id=compartment_id,\n",
    "        vault_type=oci.key_management.models.Vault.VAULT_TYPE_DEFAULT,\n",
    "        display_name=\"DataScienceVault_{}\".format(str(uuid.uuid4())[-6:]))\n",
    "\n",
    "    # Vault creation is asynchronous; Create the vault and wait until it becomes active.\n",
    "    print(\"Creating vault...\", end='')\n",
    "    vault = vault_client.create_vault_and_wait_for_state(vault_details,\n",
    "                wait_for_states=[oci.vault.models.Secret.LIFECYCLE_STATE_ACTIVE]).data\n",
    "    vault_id = vault.id\n",
    "    print('Done')\n",
    "    print(\"Created vault: {}\".format(vault_id))\n",
    "else:\n",
    "    # Get the vault using the vault OCID.\n",
    "    vault = KmsVaultClient(config).get_vault(vault_id=vault_id).data\n",
    "    print(\"Using vault: {}\".format(vault.id))"
   ]
  },
  {
   "cell_type": "markdown",
   "metadata": {},
   "source": [
    "<a id='create_key'></a>\n",
    "# Create a Key\n",
    "\n",
    "The secret is encrypted and decrypted using an AES key. The code in the following cell creates a key if you have not specified an OCID in the `key_id` variable. The `KmsManagementClient` class takes a configuration object and the endpoint for the vault that is going to be used to store the key. It establishes a connection to the KMS. Communication with `KmsManagementClient` is asynchronous. For the purpose of this notebook, it is better to have synchronous communication so the `KmsManagementClient` is wrapped in a `KmsManagementClientCompositeOperations` object.\n",
    "\n",
    "The details of the key are specified using an object of type `CreateKeyDetails`. A compartment OCID must be provided along with the properties of the key. The `KeyShape` class defines the properties of the key. In this example, it is a 32-bit AES key.\n",
    "\n",
    "For the purposes of this notebook, the key's display name is `DataScienceKey_` and a random string because the names of a key must be unique. This value can be changed to fit your individual needs."
   ]
  },
  {
   "cell_type": "code",
   "execution_count": null,
   "metadata": {},
   "outputs": [],
   "source": [
    "if key_id == \"<key_id>\":\n",
    "    # Create a vault management client using the endpoint in the vault object.\n",
    "    vault_management_client = KmsManagementClientCompositeOperations(\n",
    "        KmsManagementClient(config, service_endpoint=vault.management_endpoint))\n",
    "\n",
    "    # Create key_details object that needs to be passed when creating key.\n",
    "    key_details = CreateKeyDetails(compartment_id=compartment_id,\n",
    "        display_name=\"DataScienceKey_{}\".format(str(uuid.uuid4())[-6:]), \n",
    "        key_shape=KeyShape(algorithm=\"AES\", length=32))\n",
    "\n",
    "    # Vault creation is asynchronous; Create the vault and wait until it becomes active.\n",
    "    print(\"Creating key...\", end='')\n",
    "    key = vault_management_client.create_key_and_wait_for_state(key_details,\n",
    "              wait_for_states=[oci.key_management.models.Key.LIFECYCLE_STATE_ENABLED]).data\n",
    "    key_id = key.id\n",
    "    print('Done')\n",
    "    print(\"Created key: {}\".format(key_id))\n",
    "else:\n",
    "    print(\"Using key: {}\".format(key_id))"
   ]
  },
  {
   "cell_type": "markdown",
   "metadata": {},
   "source": [
    "<a id='secret'></a>\n",
    "# Secret\n",
    "\n",
    "<a id='store_secret'></a>\n",
    "## Store a Secret\n",
    "\n",
    "The code in the following cell creates a secret that is to be stored. The variable `credential` is a dictionary and contains the information that is to be stored. The UDF `dict_to_secret` takes a Python dictionary, converts it to a JSON string, and then Base64 encodes it. This string is what is to be stored as a secret so the secret can be parsed by any system that may need it.\n",
    "\n",
    "The `VaultsClient` class takes a configuration object and establishes a connection to the Vault service. Communication with `VaultsClient` is asynchronous. For the purpose of this notebook, it is better to have synchronous communication so `VaultsClient` is wrapped in a `VaultsClientCompositeOperations` object.\n",
    "\n",
    "The contents of the secret are stored in a `Base64SecretContentDetails` object. This object contains information about the encoding being used, the stage to be used,and most importantly the payload (the secret). The `CreateSecretDetails` class is used to wrap the `Base64SecretContentDetails` object and also specify other properties about the secret. It requires the compartment OCID, the vault that is to store the secret, and the key to use to encrypt the secret. For the purposes of this notebook, the secret's display name is `DataScienceSecret_` and a random string because the names of a secret must be unique. This value can be changed to fit your individual needs."
   ]
  },
  {
   "cell_type": "code",
   "execution_count": null,
   "metadata": {},
   "outputs": [],
   "source": [
    "# Encode the secret.\n",
    "secret_content_details = Base64SecretContentDetails(\n",
    "    content_type=oci.vault.models.SecretContentDetails.CONTENT_TYPE_BASE64,\n",
    "    stage=oci.vault.models.SecretContentDetails.STAGE_CURRENT,\n",
    "    content=dict_to_secret(credential))\n",
    "    \n",
    "# Bundle the secret and metadata about it.\n",
    "secrets_details = CreateSecretDetails(\n",
    "        compartment_id=compartment_id,\n",
    "        description = \"Data Science service test secret\", \n",
    "        secret_content=secret_content_details,\n",
    "        secret_name=\"DataScienceSecret_{}\".format(str(uuid.uuid4())[-6:]),\n",
    "        vault_id=vault_id,\n",
    "        key_id=key_id)\n",
    "\n",
    "# Store secret and wait for the secret to become active.\n",
    "print(\"Creating secret...\", end='')\n",
    "vaults_client_composite = VaultsClientCompositeOperations(VaultsClient(config))\n",
    "secret = vaults_client_composite.create_secret_and_wait_for_state(\n",
    "             create_secret_details=secrets_details,\n",
    "             wait_for_states=[oci.vault.models.Secret.LIFECYCLE_STATE_ACTIVE]).data\n",
    "secret_id = secret.id\n",
    "print('Done')\n",
    "print(\"Created secret: {}\".format(secret_id))"
   ]
  },
  {
   "cell_type": "markdown",
   "metadata": {},
   "source": [
    "<a id='retrieve_secret'></a>\n",
    "## Retrieve a Secret\n",
    "\n",
    "The `SecretsClient` class takes a configuration object. The `get_secret_budle` method takes the secret's OCID and returns a `Response` object. Its `data` attribute returns `SecretBundle` object. This has an attribute `secret_bundle_content` that has the object `Base64SecretBundleContentDetails` and the `content` attribute of this object has the actual secret. This returns the Base64 encoded JSON string that was created with the `dict_to_secret` function. The process can be reversed with the `secret_to_dict` function. This will return a dictionary with the secrets."
   ]
  },
  {
   "cell_type": "code",
   "execution_count": null,
   "metadata": {},
   "outputs": [],
   "source": [
    "secret_bundle = SecretsClient(config).get_secret_bundle(secret_id)\n",
    "secret_content = secret_to_dict(secret_bundle.data.secret_bundle_content.content)    \n",
    "\n",
    "print(secret_content)"
   ]
  },
  {
   "cell_type": "markdown",
   "metadata": {},
   "source": [
    "<a id='update_secret'></a>\n",
    "## Update a Secret\n",
    "\n",
    "Secrets are immutable but it is possible to update them by creating new versions. In the code in the following cell, the `credential` object updates the `password` key. To update the secret, a `Base64SecretContentDetails` object must be created. The process is the same as previously described in the [Store a Secret](#store_secret) section. However, instead of using a `CreateSecretDetails` object, an `UpdateSecretDetails` object is used and only the information that is being changed is passed in.\n",
    "\n",
    "Note that the OCID of the secret does not change. A new secret version is created and the old secret is rotated out of use, but it may still be available depending on the tenancy configuration.\n",
    "\n",
    "The code in the following cell updates the secret. It then prints the OCID of the old secret and the new secret (they will be the same). It also retrieves the updated secret, converts it into a dictionary, and prints it. This shows that the password was actually updated."
   ]
  },
  {
   "cell_type": "code",
   "execution_count": null,
   "metadata": {},
   "outputs": [],
   "source": [
    "# Update the password in the secret.\n",
    "credential['password'] = 'UpdatedPassword'\n",
    "\n",
    "# Encode the secret.\n",
    "secret_content_details = Base64SecretContentDetails(\n",
    "    content_type=oci.vault.models.SecretContentDetails.CONTENT_TYPE_BASE64,\n",
    "    stage=oci.vault.models.SecretContentDetails.STAGE_CURRENT,\n",
    "    content=dict_to_secret(credential))\n",
    "\n",
    "# Store the details to update.\n",
    "secrets_details = UpdateSecretDetails(secret_content=secret_content_details)\n",
    "     \n",
    "#Create new secret version and wait for the new version to become active.\n",
    "secret_update = vaults_client_composite.update_secret_and_wait_for_state(\n",
    "    secret_id, \n",
    "    secrets_details,\n",
    "    wait_for_states=[oci.vault.models.Secret.LIFECYCLE_STATE_ACTIVE]).data\n",
    "\n",
    "# The secret OCID does not change.\n",
    "print(\"Orginal Secret OCID: {}\".format(secret_id))\n",
    "print(\"Updated Secret OCID: {}\".format(secret_update.id))\n",
    "\n",
    "### Read a secret's value.\n",
    "secret_bundle = SecretsClient(config).get_secret_bundle(secret_update.id)\n",
    "secret_content = secret_to_dict(secret_bundle.data.secret_bundle_content.content)    \n",
    "\n",
    "print(secret_content)"
   ]
  },
  {
   "cell_type": "markdown",
   "metadata": {},
   "source": [
    "<a id='list'></a>\n",
    "# List Resources\n",
    "\n",
    "This section demonstrates how to obtain a list of resources from the vault, key, and secrets\n",
    "\n",
    "<a id='list_secret'></a>\n",
    "## List Secrets\n",
    "\n",
    "The `list_secrets` method of the `VaultsClient` provides access to all secrets in a compartment. It provides access to all secrets that are in all vaults in a compartment. It returns a `Response` object and the `data` attribute in that object is a list of `SecretSummary` objects.\n",
    "\n",
    "The `SecretSummary` class has the following attributes:\n",
    "* compartment_id: Compartment OCID.\n",
    "* defined_tags: Oracle defined tags.\n",
    "* description: Secret description.\n",
    "* freeform_tags: User-defined tags.\n",
    "* id: OCID of the secret.\n",
    "* key_id: OCID of the key used to encrypt and decrypt the secret.\n",
    "* lifecycle_details: Details about the lifecycle.\n",
    "* lifecycle_state: The current lifecycle state, such as ACTIVE and PENDING_DELETION.\n",
    "* secret_name: Name of the secret.\n",
    "* time_created: Timestamp of when the secret was created.\n",
    "* time_of_current_version_expiry: Timestamp of when the secret expires if it is set to expire.\n",
    "* time_of_deletion: Timestamp of when the secret is deleted if it is pending deletion.\n",
    "* vault_id: Vault OCID that the secret is in.\n",
    "\n",
    "Note that the `SecretSummary` object does not contain the actual secret. It does provide the secret's OCID that can be used to obtain the secret bundle, which has the secret. See the [retrieving a secret](#retrieve_secret), section.\n",
    "\n",
    "The following code uses attributes about a secret to display basic information about all the secrets."
   ]
  },
  {
   "cell_type": "code",
   "execution_count": null,
   "metadata": {},
   "outputs": [],
   "source": [
    "secrets = VaultsClient(config).list_secrets(compartment_id)\n",
    "for secret in secrets.data:\n",
    "    print(\"Name: {}\\nLifecycle State: {}\\nOCID: {}\\n---\".format(\n",
    "        secret.secret_name, secret.lifecycle_state,secret.id))"
   ]
  },
  {
   "cell_type": "markdown",
   "metadata": {},
   "source": [
    "<a id='list_key'></a>\n",
    "## List Keys\n",
    "\n",
    "The `list_keys` method of the `KmsManagementClient` object provide access returns a list of keys in a specific vault. It returns a `Response` object and the `data` attribute in that object is a list of `KeySummary` objects.\n",
    "\n",
    "The `KeySummary` class has the following attributes:\n",
    "* compartment_id: OCID of the compartment that the key belongs to\n",
    "* defined_tags: Oracle defined tags\n",
    "* display_name: Name of the key\n",
    "* freeform_tags: User-defined tags\n",
    "* id: OCID of the key\n",
    "* lifecycle_state: The lifecycle state such as ENABLED\n",
    "* time_created: Timestamp of when the key was created\n",
    "* vault_id: OCID of the vault that holds the key\n",
    "\n",
    "Note, the `KeySummary` object does not contain the AES key. When a secret is returned that was encrypted with a key it will automatiacally be decrypted. The most common use-case for a data scientist is to list keys to get the OCID of a desired key but not to interact directly with the key.\n",
    "\n",
    "The following code uses some of the above attributes to provide details on the keys in a given vault."
   ]
  },
  {
   "cell_type": "code",
   "execution_count": null,
   "metadata": {},
   "outputs": [],
   "source": [
    "# Get a list of keys and print some information about each one\n",
    "key_list = KmsManagementClient(config, service_endpoint=vault.management_endpoint).list_keys(\n",
    "               compartment_id=compartment_id).data\n",
    "for key in key_list:\n",
    "    print(\"Name: {}\\nLifecycle State: {}\\nOCID: {}\\n---\".format(\n",
    "        key.display_name, key.lifecycle_state,key.id))"
   ]
  },
  {
   "cell_type": "markdown",
   "metadata": {},
   "source": [
    "<a id='list_vault'></a>\n",
    "## List Vaults\n",
    "\n",
    "The `list_vaults` method of the `KmsVaultClient` object returns a list of all the vaults in a specific compartment. It returns a `Response` object and the `data` attribute in that object is a list of `VaultSummary` objects.\n",
    "\n",
    "The `VaultSummary` class has the following attributes:\n",
    "* compartment_id: OCID of the compartment that the key belongs to.\n",
    "* crypto_endpoint: The end-point for encryption and decryption.\n",
    "* defined_tags: Oracle defined tags.\n",
    "* display_name: Name of the key.\n",
    "* freeform_tags: User-defined tags.\n",
    "* id: OCID of the vault.\n",
    "* lifecycle_state: The lifecycle state, such as ACTIVE.\n",
    "* time_created: Timestamp of when the key was created.\n",
    "* management_endpoint: Endpoint for managing the vault.\n",
    "* vault_type: The oci.key_management.models.Vault type. For example, DEFAULT.\n",
    "\n",
    "The following code uses some of the above attributes to provide details on the vaults in a given compartment."
   ]
  },
  {
   "cell_type": "code",
   "execution_count": null,
   "metadata": {},
   "outputs": [],
   "source": [
    "# Get a list of vaults and print some information about each one.\n",
    "vault_list = KmsVaultClient(config).list_vaults(compartment_id=compartment_id).data\n",
    "for vault_key in vault_list:\n",
    "    print(\"Name: {}\\nLifecycle State: {}\\nOCID: {}\\n---\".format(\n",
    "        vault_key.display_name, vault_key.lifecycle_state,vault_key.id))\n"
   ]
  },
  {
   "cell_type": "markdown",
   "metadata": {},
   "source": [
    "<a id='delete'></a>\n",
    "# Deletion\n",
    "\n",
    "Vaults, keys, and secrets cannot be deleted immediately. They are marked as pending deletion. By default, they are deleted 30 days after they request for deletion. The length of time before deletion is configurable.\n",
    "\n",
    "<a id='delete_secret'></a>\n",
    "## Delete a Secret\n",
    "\n",
    "The `schedule_secret_deletion` method of the `VaultsClient` class is used to delete a secret. It requires the secret's OCID and a `ScheduleSecretDeletionDetails` object. The `ScheduleSecretDeletionDetails` provides details about when the secret is deleted.\n",
    "\n",
    "The `schedule_secret_deletion` method returns a `Response` object that has information about the deletion process. If the key has already been marked for deletion, a `ServiceError` occurs with information about the key."
   ]
  },
  {
   "cell_type": "code",
   "execution_count": null,
   "metadata": {},
   "outputs": [],
   "source": [
    "try:\n",
    "    VaultsClient(config).schedule_secret_deletion(secret_id, ScheduleSecretDeletionDetails())\n",
    "except:\n",
    "    print(\"The secret has already been deleted?\")"
   ]
  },
  {
   "cell_type": "markdown",
   "metadata": {},
   "source": [
    "<a id='delete_key'></a>\n",
    "## Delete a Key\n",
    "\n",
    "The `schedule_key_deletion` method of the `KmsManagementClient` class is used to delete a key. It requires the key's OCID and a `ScheduleKeyDeletionDetails` object. The `ScheduleKeyDeletionDetails` provides details about when the key is deleted.\n",
    "\n",
    "The `schedule_key_deletion` method returns a `Response` object that has information about the deletion process. If the key has already been marked for deletion, a `ServiceError` occurs.\n",
    "\n",
    "Note that secrets are encrypted with a key. If that key is deleted, then the secret cannot be decrypted."
   ]
  },
  {
   "cell_type": "code",
   "execution_count": null,
   "metadata": {},
   "outputs": [],
   "source": [
    "try:\n",
    "    KmsManagementClient(config, service_endpoint=vault.management_endpoint).schedule_key_deletion(\n",
    "        key_id, ScheduleKeyDeletionDetails())\n",
    "except:\n",
    "    print(\"Key has already been deleted?\")"
   ]
  },
  {
   "cell_type": "markdown",
   "metadata": {},
   "source": [
    "<a id='delete_vault'></a>\n",
    "## Delete a Vault\n",
    "\n",
    "The `schedule_vault_deletion` method of the `KmsVaultClient` class is used to delete a vault. It requires the vault's OCID and a `ScheduleVaultDeletionDetails` object. The `ScheduleVaultDeletionDetails` provides details about when the vault is deleted.\n",
    "\n",
    "The `schedule_vault_deletion` method returns a `Response` object that has information about the deletion process. If the vault has already been marked for deletion, then a `ServiceError` occurs.\n",
    "\n",
    "Note that keys and secrets are associated with vaults. If a vault is deleted, then all the keys and secrets in that vault are deleted."
   ]
  },
  {
   "cell_type": "code",
   "execution_count": null,
   "metadata": {},
   "outputs": [],
   "source": [
    "try:\n",
    "    KmsVaultClient(config).schedule_vault_deletion(vault_id, ScheduleVaultDeletionDetails())\n",
    "except:\n",
    "    print(\"Vault has already been deleted?\")"
   ]
  },
  {
   "cell_type": "markdown",
   "metadata": {},
   "source": [
    "<a id='ref'></a>\n",
    "# References\n",
    "* [Overview of the Vault](https://docs.cloud.oracle.com/en-us/iaas/Content/KeyManagement/Concepts/keyoverview.htm)\n",
    "* [Example code for working with the key management service](https://github.com/oracle/oci-python-sdk/blob/master/examples/kms_example.py)\n",
    "* [API reference for Key Management](https://oracle-cloud-infrastructure-python-sdk.readthedocs.io/en/latest/api/key_management.html)\n",
    "* [API reference for Vault](https://oracle-cloud-infrastructure-python-sdk.readthedocs.io/en/latest/api/vault.html)\n",
    "* [Managing permissions for Vault](https://docs.cloud.oracle.com/en-us/iaas/Content/Identity/Reference/keypolicyreference.htm)\n",
    "* [Secure way of managing secrets in Oracle Cloud Infrastructure](https://www.ateam-oracle.com/secure-way-of-managing-secrets-in-oci)"
   ]
  }
 ],
 "metadata": {
  "kernelspec": {
   "display_name": "Python [conda env:neurophysiologyv1_0]",
   "language": "python",
   "name": "conda-env-neurophysiologyv1_0-py"
  },
  "language_info": {
   "codemirror_mode": {
    "name": "ipython",
    "version": 3
   },
   "file_extension": ".py",
   "mimetype": "text/x-python",
   "name": "python",
   "nbconvert_exporter": "python",
   "pygments_lexer": "ipython3",
   "version": "3.6.10"
  }
 },
 "nbformat": 4,
 "nbformat_minor": 4
}
